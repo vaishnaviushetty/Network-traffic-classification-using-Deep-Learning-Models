{
 "cells": [
  {
   "cell_type": "code",
   "execution_count": 13,
   "id": "cd2b36ef",
   "metadata": {},
   "outputs": [],
   "source": [
    "import pandas as pd\n",
    "import numpy as np"
   ]
  },
  {
   "cell_type": "code",
   "execution_count": 19,
   "id": "ef1643b4",
   "metadata": {},
   "outputs": [
    {
     "name": "stdout",
     "output_type": "stream",
     "text": [
      "Row count: 51826\n",
      "Column count: 73\n"
     ]
    }
   ],
   "source": [
    "combined_df=pd.read_csv(\"netflix2_with_label.csv\")\n",
    "row_count, column_count = combined_df.shape\n",
    "print(\"Row count:\", row_count)\n",
    "print(\"Column count:\", column_count)\n"
   ]
  },
  {
   "cell_type": "code",
   "execution_count": 20,
   "id": "a3d2c5a1",
   "metadata": {},
   "outputs": [
    {
     "name": "stdout",
     "output_type": "stream",
     "text": [
      "\n",
      "Label Distribution:\n",
      "Label\n",
      "STREAMING    51826\n",
      "Name: count, dtype: int64\n"
     ]
    }
   ],
   "source": [
    "label_distribution = combined_df['Label'].value_counts()\n",
    "print(\"\\nLabel Distribution:\")\n",
    "print(label_distribution)"
   ]
  },
  {
   "cell_type": "code",
   "execution_count": 16,
   "id": "dd480301",
   "metadata": {},
   "outputs": [],
   "source": [
    "# Drop SYN packets\n",
    "combined_df = combined_df.drop(combined_df[\n",
    "    (combined_df['ip.proto'] == 6) & \n",
    "    (combined_df['tcp.flags.syn'] == 1) & \n",
    "    (combined_df['tcp.flags.ack'] == 0) & \n",
    "    (combined_df['tcp.flags.reset'] == 0)  # Exclude RST packets\n",
    "].index)\n",
    "\n",
    "# Drop ACK packets\n",
    "combined_df = combined_df.drop(combined_df[\n",
    "    (combined_df['ip.proto'] == 6) & \n",
    "    (combined_df['tcp.flags.syn'] == 0) & \n",
    "    (combined_df['tcp.flags.ack'] == 1) & \n",
    "    (combined_df['tcp.flags.reset'] == 0)  # Exclude RST packets\n",
    "].index)\n",
    "\n",
    "# Drop SYN-ACK packets\n",
    "combined_df = combined_df.drop(combined_df[\n",
    "    (combined_df['ip.proto'] == 6) & \n",
    "    (combined_df['tcp.flags.syn'] == 1) & \n",
    "    (combined_df['tcp.flags.ack'] == 1) & \n",
    "    (combined_df['tcp.flags.reset'] == 0)  # Exclude RST packets\n",
    "].index)\n",
    "\n",
    "# Drop RST packets\n",
    "combined_df = combined_df.drop(combined_df[\n",
    "    (combined_df['ip.proto'] == 6) & \n",
    "    (combined_df['tcp.flags.reset'] == 1)\n",
    "].index)\n"
   ]
  },
  {
   "cell_type": "code",
   "execution_count": 17,
   "id": "bd1ade0e",
   "metadata": {},
   "outputs": [
    {
     "name": "stdout",
     "output_type": "stream",
     "text": [
      "Row count: 71\n",
      "Column count: 73\n"
     ]
    }
   ],
   "source": [
    "row_count, column_count = combined_df.shape\n",
    "print(\"Row count:\", row_count)\n",
    "print(\"Column count:\", column_count)\n"
   ]
  },
  {
   "cell_type": "code",
   "execution_count": 18,
   "id": "72cbe132",
   "metadata": {},
   "outputs": [
    {
     "name": "stdout",
     "output_type": "stream",
     "text": [
      "CSV file saved successfully.\n"
     ]
    }
   ],
   "source": [
    "# Assuming combined_df is your DataFrame containing the data\n",
    "combined_df.to_csv('syn-ack_removed_youtube2_df.csv', index=False)\n",
    "\n",
    "print(\"CSV file saved successfully.\")\n"
   ]
  },
  {
   "cell_type": "code",
   "execution_count": null,
   "id": "4dcdc2ee",
   "metadata": {},
   "outputs": [],
   "source": []
  }
 ],
 "metadata": {
  "kernelspec": {
   "display_name": "Python 3 (ipykernel)",
   "language": "python",
   "name": "python3"
  },
  "language_info": {
   "codemirror_mode": {
    "name": "ipython",
    "version": 3
   },
   "file_extension": ".py",
   "mimetype": "text/x-python",
   "name": "python",
   "nbconvert_exporter": "python",
   "pygments_lexer": "ipython3",
   "version": "3.9.16"
  }
 },
 "nbformat": 4,
 "nbformat_minor": 5
}
