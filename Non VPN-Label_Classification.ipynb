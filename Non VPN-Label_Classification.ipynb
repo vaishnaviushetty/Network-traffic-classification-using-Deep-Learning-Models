{
 "cells": [
  {
   "cell_type": "code",
   "execution_count": 1,
   "id": "4ddd8775",
   "metadata": {},
   "outputs": [],
   "source": [
    "import pandas as pd\n",
    "import numpy as np"
   ]
  },
  {
   "cell_type": "code",
   "execution_count": 2,
   "id": "ca5f6b37",
   "metadata": {},
   "outputs": [],
   "source": [
    "combined_df=pd.read_csv(\"Non vpn dataset update.csv\")"
   ]
  },
  {
   "cell_type": "code",
   "execution_count": 3,
   "id": "b54a69d9",
   "metadata": {},
   "outputs": [
    {
     "name": "stdout",
     "output_type": "stream",
     "text": [
      "Row count: 199905\n",
      "Column count: 73\n"
     ]
    }
   ],
   "source": [
    "row_count, column_count = combined_df.shape\n",
    "print(\"Row count:\", row_count)\n",
    "print(\"Column count:\", column_count)\n"
   ]
  },
  {
   "cell_type": "code",
   "execution_count": 4,
   "id": "2ec6587a",
   "metadata": {},
   "outputs": [
    {
     "name": "stdout",
     "output_type": "stream",
     "text": [
      "\n",
      "Label Distribution:\n",
      "Label\n",
      "VOIP             122579\n",
      "EMAIL             56159\n",
      "CHAT              17755\n",
      "FILE TRANSFER      2738\n",
      "STREAMING           674\n",
      "Name: count, dtype: int64\n"
     ]
    }
   ],
   "source": [
    "label_distribution = combined_df['Label'].value_counts()\n",
    "print(\"\\nLabel Distribution:\")\n",
    "print(label_distribution)"
   ]
  },
  {
   "cell_type": "code",
   "execution_count": 5,
   "id": "8d24bc0a",
   "metadata": {},
   "outputs": [],
   "source": [
    "from sklearn.preprocessing import LabelEncoder\n",
    "from sklearn.model_selection import train_test_split\n",
    "from sklearn.preprocessing import LabelEncoder\n",
    "from keras.models import Sequential\n",
    "from keras.layers import LSTM, Dense, Embedding, SpatialDropout1D,Dropout\n",
    "from keras.preprocessing.text import Tokenizer\n",
    "from keras.utils.np_utils import to_categorical"
   ]
  },
  {
   "cell_type": "code",
   "execution_count": 6,
   "id": "e2cc492b",
   "metadata": {},
   "outputs": [
    {
     "name": "stdout",
     "output_type": "stream",
     "text": [
      "(18412, 73)\n"
     ]
    }
   ],
   "source": [
    "# Assuming combined_df is your DataFrame containing the data\n",
    "voip_packets = combined_df[combined_df['Label'] == 'VOIP'].head(5000)\n",
    "email_packets = combined_df[combined_df['Label'] == 'EMAIL'].head(5000)\n",
    "chat_packets = combined_df[combined_df['Label'] == 'CHAT'].head(5000)\n",
    "remaining_packets = combined_df[(combined_df['Label'] != 'VOIP') & (combined_df['Label'] != 'EMAIL') & (combined_df['Label'] != 'CHAT') ]\n",
    "\n",
    "# Concatenate the first 2000 VOIP packets, 2000 P2P packets, and the remaining packets\n",
    "final_dataset = pd.concat([voip_packets, email_packets,chat_packets, remaining_packets], ignore_index=True)\n",
    "print(final_dataset.shape)\n"
   ]
  },
  {
   "cell_type": "code",
   "execution_count": 7,
   "id": "677aad35",
   "metadata": {},
   "outputs": [
    {
     "name": "stdout",
     "output_type": "stream",
     "text": [
      "       ip.proto  tcp.srcport  tcp.dstport  udp.srcport  udp.dstport  tcp.seq   \n",
      "0          17.0          NaN          NaN      19305.0      33306.0      NaN  \\\n",
      "1          17.0          NaN          NaN      19305.0      33306.0      NaN   \n",
      "2          17.0          NaN          NaN      19305.0      33306.0      NaN   \n",
      "3          17.0          NaN          NaN      19305.0      33306.0      NaN   \n",
      "4          17.0          NaN          NaN      19305.0      33306.0      NaN   \n",
      "...         ...          ...          ...          ...          ...      ...   \n",
      "18407      17.0          NaN          NaN        137.0        137.0      NaN   \n",
      "18408      17.0          NaN          NaN      61009.0      45087.0      NaN   \n",
      "18409      17.0          NaN          NaN      45087.0      61009.0      NaN   \n",
      "18410      17.0          NaN          NaN      35468.0      61009.0      NaN   \n",
      "18411      17.0          NaN          NaN      61009.0      35468.0      NaN   \n",
      "\n",
      "       frame.time_epoch  tcp.stream  ip.flags.df  frame.encap_type  ...   \n",
      "0          1.427724e+09         NaN          0.0                 1  ...  \\\n",
      "1          1.427724e+09         NaN          0.0                 1  ...   \n",
      "2          1.427724e+09         NaN          0.0                 1  ...   \n",
      "3          1.427724e+09         NaN          0.0                 1  ...   \n",
      "4          1.427724e+09         NaN          0.0                 1  ...   \n",
      "...                 ...         ...          ...               ...  ...   \n",
      "18407      1.430492e+09         NaN          0.0                 1  ...   \n",
      "18408      1.430492e+09         NaN          0.0                 1  ...   \n",
      "18409      1.430492e+09         NaN          0.0                 1  ...   \n",
      "18410      1.430492e+09         NaN          0.0                 1  ...   \n",
      "18411      1.430492e+09         NaN          0.0                 1  ...   \n",
      "\n",
      "       frame.packet_flags_fcs_length  ip.fragment.error  tcp.analysis.flags.1   \n",
      "0                                NaN                NaN                   NaN  \\\n",
      "1                                NaN                NaN                   NaN   \n",
      "2                                NaN                NaN                   NaN   \n",
      "3                                NaN                NaN                   NaN   \n",
      "4                                NaN                NaN                   NaN   \n",
      "...                              ...                ...                   ...   \n",
      "18407                            NaN                NaN                   NaN   \n",
      "18408                            NaN                NaN                   NaN   \n",
      "18409                            NaN                NaN                   NaN   \n",
      "18410                            NaN                NaN                   NaN   \n",
      "18411                            NaN                NaN                   NaN   \n",
      "\n",
      "       tcp.analysis.keep_alive  tcp.analysis.window_full   \n",
      "0                          NaN                       NaN  \\\n",
      "1                          NaN                       NaN   \n",
      "2                          NaN                       NaN   \n",
      "3                          NaN                       NaN   \n",
      "4                          NaN                       NaN   \n",
      "...                        ...                       ...   \n",
      "18407                      NaN                       NaN   \n",
      "18408                      NaN                       NaN   \n",
      "18409                      NaN                       NaN   \n",
      "18410                      NaN                       NaN   \n",
      "18411                      NaN                       NaN   \n",
      "\n",
      "       tcp.analysis.window_update  tcp.analysis.zero_window   \n",
      "0                             NaN                       NaN  \\\n",
      "1                             NaN                       NaN   \n",
      "2                             NaN                       NaN   \n",
      "3                             NaN                       NaN   \n",
      "4                             NaN                       NaN   \n",
      "...                           ...                       ...   \n",
      "18407                         NaN                       NaN   \n",
      "18408                         NaN                       NaN   \n",
      "18409                         NaN                       NaN   \n",
      "18410                         NaN                       NaN   \n",
      "18411                         NaN                       NaN   \n",
      "\n",
      "       tcp.analysis.zero_window_probe  frame.cap_len.1          Label  \n",
      "0                                 NaN              112           VOIP  \n",
      "1                                 NaN              183           VOIP  \n",
      "2                                 NaN              296           VOIP  \n",
      "3                                 NaN              296           VOIP  \n",
      "4                                 NaN              296           VOIP  \n",
      "...                               ...              ...            ...  \n",
      "18407                             NaN               92  FILE TRANSFER  \n",
      "18408                             NaN              145  FILE TRANSFER  \n",
      "18409                             NaN              331  FILE TRANSFER  \n",
      "18410                             NaN              145  FILE TRANSFER  \n",
      "18411                             NaN              331  FILE TRANSFER  \n",
      "\n",
      "[18412 rows x 67 columns]\n"
     ]
    }
   ],
   "source": [
    "unwanted_columns = ['frame.len','tcp.flags.syn','tcp.flags.ack','tcp.flags.push', 'tcp.flags.reset',\\\n",
    "                   'data.len']  # Add all unwanted column names here\n",
    "# Remove unwanted columns from the DataFrame\n",
    "filtered_df = final_dataset.drop(columns=unwanted_columns)\n",
    "\n",
    "# Display the filtered DataFrame\n",
    "print(filtered_df)\n"
   ]
  },
  {
   "cell_type": "code",
   "execution_count": 8,
   "id": "9096991e",
   "metadata": {
    "scrolled": true
   },
   "outputs": [
    {
     "name": "stdout",
     "output_type": "stream",
     "text": [
      "Encoded Labels:\n",
      "Label\n",
      "4    5000\n",
      "1    5000\n",
      "0    5000\n",
      "2    2738\n",
      "3     674\n",
      "Name: count, dtype: int64\n"
     ]
    }
   ],
   "source": [
    "# Create a LabelEncoder object\n",
    "label_encoder = LabelEncoder()\n",
    "\n",
    "# Fit and transform the 'Label' column\n",
    "filtered_df['Label'] = label_encoder.fit_transform(filtered_df['Label'])\n",
    "\n",
    " # Display the encoded labels\n",
    "print(\"Encoded Labels:\")\n",
    "print(filtered_df['Label'].value_counts())\n"
   ]
  },
  {
   "cell_type": "code",
   "execution_count": 9,
   "id": "e5786023",
   "metadata": {},
   "outputs": [
    {
     "name": "stdout",
     "output_type": "stream",
     "text": [
      "{'CHAT': 0, 'EMAIL': 1, 'FILE TRANSFER': 2, 'STREAMING': 3, 'VOIP': 4}\n"
     ]
    }
   ],
   "source": [
    "# Mapping original labels to encoded values\n",
    "label_mapping = dict(zip(label_encoder.classes_, label_encoder.transform(label_encoder.classes_)))\n",
    "print(label_mapping)"
   ]
  },
  {
   "cell_type": "code",
   "execution_count": 10,
   "id": "d1128f04",
   "metadata": {},
   "outputs": [],
   "source": [
    "X = filtered_df.drop(columns=['Label'])\n",
    "y = filtered_df['Label']\n"
   ]
  },
  {
   "cell_type": "code",
   "execution_count": 11,
   "id": "cb82f814",
   "metadata": {},
   "outputs": [],
   "source": [
    "encoder = LabelEncoder()\n",
    "y = encoder.fit_transform(y)\n",
    "num_classes = len(encoder.classes_)\n"
   ]
  },
  {
   "cell_type": "code",
   "execution_count": 12,
   "id": "7b4fce43",
   "metadata": {},
   "outputs": [
    {
     "name": "stdout",
     "output_type": "stream",
     "text": [
      "(14729, 66)\n",
      "(14729,)\n"
     ]
    }
   ],
   "source": [
    "X_train, X_test, y_train, y_test = train_test_split(X, y, test_size=0.2, random_state=42)\n",
    "print(X_train.shape)\n",
    "print(y_train.shape)"
   ]
  },
  {
   "cell_type": "code",
   "execution_count": 13,
   "id": "68c65027",
   "metadata": {},
   "outputs": [],
   "source": [
    "from sklearn.impute import SimpleImputer\n",
    "\n",
    "# Impute missing values in the features\n",
    "imputer = SimpleImputer(strategy='mean')\n",
    "X_train = imputer.fit_transform(X_train)\n",
    "X_test= imputer.transform(X_test)"
   ]
  },
  {
   "cell_type": "code",
   "execution_count": 14,
   "id": "f7f0a515",
   "metadata": {},
   "outputs": [
    {
     "name": "stdout",
     "output_type": "stream",
     "text": [
      "(14729, 50, 1)\n"
     ]
    }
   ],
   "source": [
    "x_training_data = np.reshape(X_train, (X_train.shape[0], X_train.shape[1],1))\n",
    "print(x_training_data.shape)\n"
   ]
  },
  {
   "cell_type": "code",
   "execution_count": 15,
   "id": "3356a62b",
   "metadata": {},
   "outputs": [
    {
     "name": "stdout",
     "output_type": "stream",
     "text": [
      "Model: \"sequential\"\n",
      "_________________________________________________________________\n",
      " Layer (type)                Output Shape              Param #   \n",
      "=================================================================\n",
      " conv1d (Conv1D)             (None, 48, 32)            128       \n",
      "                                                                 \n",
      " max_pooling1d (MaxPooling1D  (None, 24, 32)           0         \n",
      " )                                                               \n",
      "                                                                 \n",
      " conv1d_1 (Conv1D)           (None, 22, 64)            6208      \n",
      "                                                                 \n",
      " max_pooling1d_1 (MaxPooling  (None, 11, 64)           0         \n",
      " 1D)                                                             \n",
      "                                                                 \n",
      " simple_rnn (SimpleRNN)      (None, 11, 64)            8256      \n",
      "                                                                 \n",
      " dropout (Dropout)           (None, 11, 64)            0         \n",
      "                                                                 \n",
      " simple_rnn_1 (SimpleRNN)    (None, 64)                8256      \n",
      "                                                                 \n",
      " dropout_1 (Dropout)         (None, 64)                0         \n",
      "                                                                 \n",
      " dense (Dense)               (None, 5)                 325       \n",
      "                                                                 \n",
      "=================================================================\n",
      "Total params: 23,173\n",
      "Trainable params: 23,173\n",
      "Non-trainable params: 0\n",
      "_________________________________________________________________\n",
      "Epoch 1/100\n",
      "614/614 [==============================] - 6s 7ms/step - loss: 1.1530 - accuracy: 0.5272 - val_loss: 0.7266 - val_accuracy: 0.7298\n",
      "Epoch 2/100\n",
      "614/614 [==============================] - 4s 7ms/step - loss: 0.7476 - accuracy: 0.7342 - val_loss: 0.6099 - val_accuracy: 0.8132\n",
      "Epoch 3/100\n",
      "614/614 [==============================] - 4s 6ms/step - loss: 0.6226 - accuracy: 0.7872 - val_loss: 0.5111 - val_accuracy: 0.8355\n",
      "Epoch 4/100\n",
      "614/614 [==============================] - 4s 6ms/step - loss: 0.5790 - accuracy: 0.8026 - val_loss: 0.5074 - val_accuracy: 0.8262\n",
      "Epoch 5/100\n",
      "614/614 [==============================] - 6s 10ms/step - loss: 0.5578 - accuracy: 0.8132 - val_loss: 0.5734 - val_accuracy: 0.8031\n",
      "Epoch 6/100\n",
      "614/614 [==============================] - 5s 8ms/step - loss: 0.5132 - accuracy: 0.8255 - val_loss: 0.4505 - val_accuracy: 0.8547\n",
      "Epoch 7/100\n",
      "614/614 [==============================] - 5s 8ms/step - loss: 0.4513 - accuracy: 0.8479 - val_loss: 0.3873 - val_accuracy: 0.8670\n",
      "Epoch 8/100\n",
      "614/614 [==============================] - 5s 8ms/step - loss: 0.3995 - accuracy: 0.8643 - val_loss: 0.3289 - val_accuracy: 0.8903\n",
      "Epoch 9/100\n",
      "614/614 [==============================] - 5s 8ms/step - loss: 0.3717 - accuracy: 0.8741 - val_loss: 0.3154 - val_accuracy: 0.9017\n",
      "Epoch 10/100\n",
      "614/614 [==============================] - 5s 8ms/step - loss: 0.3865 - accuracy: 0.8648 - val_loss: 0.3278 - val_accuracy: 0.8892\n",
      "Epoch 11/100\n",
      "614/614 [==============================] - 5s 7ms/step - loss: 0.3786 - accuracy: 0.8688 - val_loss: 0.3272 - val_accuracy: 0.8870\n",
      "Epoch 12/100\n",
      "614/614 [==============================] - 5s 8ms/step - loss: 0.3587 - accuracy: 0.8771 - val_loss: 0.3062 - val_accuracy: 0.9042\n",
      "Epoch 13/100\n",
      "614/614 [==============================] - 5s 8ms/step - loss: 0.3739 - accuracy: 0.8688 - val_loss: 0.3448 - val_accuracy: 0.8765\n",
      "Epoch 14/100\n",
      "614/614 [==============================] - 5s 8ms/step - loss: 0.3617 - accuracy: 0.8760 - val_loss: 0.3288 - val_accuracy: 0.8889\n",
      "Epoch 15/100\n",
      "614/614 [==============================] - 5s 8ms/step - loss: 0.3645 - accuracy: 0.8732 - val_loss: 0.3158 - val_accuracy: 0.8925\n",
      "Epoch 16/100\n",
      "614/614 [==============================] - 5s 9ms/step - loss: 0.3621 - accuracy: 0.8745 - val_loss: 0.2994 - val_accuracy: 0.9028\n",
      "Epoch 17/100\n",
      "614/614 [==============================] - 5s 8ms/step - loss: 0.3608 - accuracy: 0.8738 - val_loss: 0.3275 - val_accuracy: 0.8860\n",
      "Epoch 18/100\n",
      "614/614 [==============================] - 5s 8ms/step - loss: 0.3564 - accuracy: 0.8750 - val_loss: 0.3095 - val_accuracy: 0.8949\n",
      "Epoch 19/100\n",
      "614/614 [==============================] - 5s 8ms/step - loss: 0.3388 - accuracy: 0.8829 - val_loss: 0.3035 - val_accuracy: 0.9028\n",
      "Epoch 20/100\n",
      "614/614 [==============================] - 5s 7ms/step - loss: 0.3342 - accuracy: 0.8834 - val_loss: 0.3107 - val_accuracy: 0.8919\n",
      "Epoch 21/100\n",
      "614/614 [==============================] - 5s 8ms/step - loss: 0.3293 - accuracy: 0.8858 - val_loss: 0.3270 - val_accuracy: 0.8784\n",
      "Epoch 22/100\n",
      "614/614 [==============================] - 5s 8ms/step - loss: 0.3471 - accuracy: 0.8805 - val_loss: 0.2997 - val_accuracy: 0.8938\n",
      "Epoch 23/100\n",
      "614/614 [==============================] - 5s 7ms/step - loss: 0.3328 - accuracy: 0.8831 - val_loss: 0.2868 - val_accuracy: 0.9001\n",
      "Epoch 24/100\n",
      "614/614 [==============================] - 5s 8ms/step - loss: 0.3360 - accuracy: 0.8794 - val_loss: 0.2912 - val_accuracy: 0.8998\n",
      "Epoch 25/100\n",
      "614/614 [==============================] - 5s 8ms/step - loss: 0.3386 - accuracy: 0.8806 - val_loss: 0.2999 - val_accuracy: 0.8952\n",
      "Epoch 26/100\n",
      "614/614 [==============================] - 5s 8ms/step - loss: 0.3339 - accuracy: 0.8799 - val_loss: 0.2842 - val_accuracy: 0.9063\n",
      "Epoch 27/100\n",
      "614/614 [==============================] - 5s 8ms/step - loss: 0.3276 - accuracy: 0.8816 - val_loss: 0.2990 - val_accuracy: 0.8966\n",
      "Epoch 28/100\n",
      "614/614 [==============================] - 6s 9ms/step - loss: 0.3318 - accuracy: 0.8842 - val_loss: 0.3041 - val_accuracy: 0.8963\n",
      "Epoch 29/100\n",
      "614/614 [==============================] - 5s 9ms/step - loss: 0.3284 - accuracy: 0.8824 - val_loss: 0.2873 - val_accuracy: 0.9069\n",
      "Epoch 30/100\n",
      "614/614 [==============================] - 6s 9ms/step - loss: 0.3186 - accuracy: 0.8892 - val_loss: 0.2850 - val_accuracy: 0.9028\n",
      "Epoch 31/100\n",
      "614/614 [==============================] - 5s 8ms/step - loss: 0.3463 - accuracy: 0.8758 - val_loss: 0.3164 - val_accuracy: 0.8767\n",
      "Epoch 32/100\n",
      "614/614 [==============================] - 5s 8ms/step - loss: 0.3405 - accuracy: 0.8795 - val_loss: 0.3178 - val_accuracy: 0.8808\n",
      "Epoch 33/100\n",
      "614/614 [==============================] - 5s 8ms/step - loss: 0.3222 - accuracy: 0.8876 - val_loss: 0.2969 - val_accuracy: 0.8985\n",
      "Epoch 34/100\n",
      "614/614 [==============================] - 5s 8ms/step - loss: 0.3274 - accuracy: 0.8882 - val_loss: 0.3084 - val_accuracy: 0.8933\n",
      "Epoch 35/100\n",
      "614/614 [==============================] - 5s 8ms/step - loss: 0.3171 - accuracy: 0.8851 - val_loss: 0.2829 - val_accuracy: 0.9085\n",
      "Epoch 36/100\n",
      "614/614 [==============================] - 5s 8ms/step - loss: 0.3091 - accuracy: 0.8908 - val_loss: 0.2779 - val_accuracy: 0.9050\n",
      "Epoch 37/100\n",
      "614/614 [==============================] - 5s 8ms/step - loss: 0.3206 - accuracy: 0.8863 - val_loss: 0.3130 - val_accuracy: 0.8911\n",
      "Epoch 38/100\n",
      "614/614 [==============================] - 5s 8ms/step - loss: 0.3284 - accuracy: 0.8834 - val_loss: 0.2876 - val_accuracy: 0.8985\n",
      "Epoch 39/100\n",
      "614/614 [==============================] - 5s 8ms/step - loss: 0.3078 - accuracy: 0.8915 - val_loss: 0.2974 - val_accuracy: 0.8906\n",
      "Epoch 40/100\n",
      "614/614 [==============================] - 5s 9ms/step - loss: 0.3223 - accuracy: 0.8812 - val_loss: 0.2788 - val_accuracy: 0.8947\n",
      "Epoch 41/100\n",
      "614/614 [==============================] - 5s 8ms/step - loss: 0.3129 - accuracy: 0.8885 - val_loss: 0.2823 - val_accuracy: 0.9061\n",
      "Epoch 42/100\n",
      "614/614 [==============================] - 5s 8ms/step - loss: 0.3174 - accuracy: 0.8878 - val_loss: 0.2970 - val_accuracy: 0.8941\n",
      "Epoch 43/100\n",
      "614/614 [==============================] - 5s 8ms/step - loss: 0.3222 - accuracy: 0.8853 - val_loss: 0.2946 - val_accuracy: 0.9009\n",
      "Epoch 44/100\n",
      "614/614 [==============================] - 5s 8ms/step - loss: 0.3106 - accuracy: 0.8886 - val_loss: 0.2891 - val_accuracy: 0.9025\n",
      "Epoch 45/100\n",
      "614/614 [==============================] - 5s 8ms/step - loss: 0.3088 - accuracy: 0.8899 - val_loss: 0.3049 - val_accuracy: 0.8838\n"
     ]
    },
    {
     "name": "stdout",
     "output_type": "stream",
     "text": [
      "Epoch 46/100\n",
      "614/614 [==============================] - 5s 8ms/step - loss: 0.3123 - accuracy: 0.8882 - val_loss: 0.2868 - val_accuracy: 0.8938\n",
      "Epoch 47/100\n",
      "614/614 [==============================] - 5s 8ms/step - loss: 0.3099 - accuracy: 0.8872 - val_loss: 0.2994 - val_accuracy: 0.8917\n",
      "Epoch 48/100\n",
      "614/614 [==============================] - 5s 8ms/step - loss: 0.3153 - accuracy: 0.8849 - val_loss: 0.2875 - val_accuracy: 0.8944\n",
      "Epoch 49/100\n",
      "614/614 [==============================] - 5s 8ms/step - loss: 0.3269 - accuracy: 0.8831 - val_loss: 0.2965 - val_accuracy: 0.8985\n",
      "Epoch 50/100\n",
      "614/614 [==============================] - 5s 8ms/step - loss: 0.3086 - accuracy: 0.8929 - val_loss: 0.2886 - val_accuracy: 0.9052\n",
      "Epoch 51/100\n",
      "614/614 [==============================] - 5s 8ms/step - loss: 0.3058 - accuracy: 0.8893 - val_loss: 0.2772 - val_accuracy: 0.8982\n",
      "Epoch 52/100\n",
      "614/614 [==============================] - 5s 8ms/step - loss: 0.3298 - accuracy: 0.8791 - val_loss: 0.3175 - val_accuracy: 0.8718\n",
      "Epoch 53/100\n",
      "614/614 [==============================] - 5s 8ms/step - loss: 0.3356 - accuracy: 0.8772 - val_loss: 0.2890 - val_accuracy: 0.8938\n",
      "Epoch 54/100\n",
      "614/614 [==============================] - 6s 10ms/step - loss: 0.3061 - accuracy: 0.8878 - val_loss: 0.2680 - val_accuracy: 0.9036\n",
      "Epoch 55/100\n",
      "614/614 [==============================] - 5s 8ms/step - loss: 0.2990 - accuracy: 0.8923 - val_loss: 0.2768 - val_accuracy: 0.9020\n",
      "Epoch 56/100\n",
      "614/614 [==============================] - 6s 9ms/step - loss: 0.2835 - accuracy: 0.8952 - val_loss: 0.2598 - val_accuracy: 0.9050\n",
      "Epoch 57/100\n",
      "614/614 [==============================] - 7s 11ms/step - loss: 0.2876 - accuracy: 0.8978 - val_loss: 0.2749 - val_accuracy: 0.8993\n",
      "Epoch 58/100\n",
      "614/614 [==============================] - 6s 10ms/step - loss: 0.2984 - accuracy: 0.8925 - val_loss: 0.2718 - val_accuracy: 0.8985\n",
      "Epoch 59/100\n",
      "614/614 [==============================] - 5s 9ms/step - loss: 0.3058 - accuracy: 0.8874 - val_loss: 0.2809 - val_accuracy: 0.8971\n",
      "Epoch 60/100\n",
      "614/614 [==============================] - 5s 8ms/step - loss: 0.2978 - accuracy: 0.8912 - val_loss: 0.2694 - val_accuracy: 0.9042\n",
      "Epoch 61/100\n",
      "614/614 [==============================] - 5s 8ms/step - loss: 0.2887 - accuracy: 0.8935 - val_loss: 0.3340 - val_accuracy: 0.8879\n",
      "Epoch 62/100\n",
      "614/614 [==============================] - 5s 8ms/step - loss: 0.2940 - accuracy: 0.8901 - val_loss: 0.2637 - val_accuracy: 0.8960\n",
      "Epoch 63/100\n",
      "614/614 [==============================] - 5s 8ms/step - loss: 0.2913 - accuracy: 0.8903 - val_loss: 0.2616 - val_accuracy: 0.9071\n",
      "Epoch 64/100\n",
      "614/614 [==============================] - 5s 8ms/step - loss: 0.2922 - accuracy: 0.8906 - val_loss: 0.2800 - val_accuracy: 0.9014\n",
      "Epoch 65/100\n",
      "614/614 [==============================] - 6s 9ms/step - loss: 0.3219 - accuracy: 0.8807 - val_loss: 0.3002 - val_accuracy: 0.9028\n",
      "Epoch 66/100\n",
      "614/614 [==============================] - 5s 9ms/step - loss: 0.3041 - accuracy: 0.8899 - val_loss: 0.2744 - val_accuracy: 0.9047\n",
      "Epoch 67/100\n",
      "614/614 [==============================] - 5s 8ms/step - loss: 0.2968 - accuracy: 0.8956 - val_loss: 0.2919 - val_accuracy: 0.9031\n",
      "Epoch 68/100\n",
      "614/614 [==============================] - 5s 8ms/step - loss: 0.2902 - accuracy: 0.8969 - val_loss: 0.2668 - val_accuracy: 0.9096\n",
      "Epoch 69/100\n",
      "614/614 [==============================] - 5s 8ms/step - loss: 0.2882 - accuracy: 0.8933 - val_loss: 0.3805 - val_accuracy: 0.8680\n",
      "Epoch 70/100\n",
      "614/614 [==============================] - 5s 8ms/step - loss: 0.3296 - accuracy: 0.8802 - val_loss: 0.2716 - val_accuracy: 0.9020\n",
      "Epoch 71/100\n",
      "614/614 [==============================] - 5s 9ms/step - loss: 0.2959 - accuracy: 0.8925 - val_loss: 0.2741 - val_accuracy: 0.9031\n",
      "Epoch 72/100\n",
      "614/614 [==============================] - 6s 9ms/step - loss: 0.2911 - accuracy: 0.8908 - val_loss: 0.2612 - val_accuracy: 0.9071\n",
      "Epoch 73/100\n",
      "614/614 [==============================] - 5s 9ms/step - loss: 0.2980 - accuracy: 0.8902 - val_loss: 0.2871 - val_accuracy: 0.8917\n",
      "Epoch 74/100\n",
      "614/614 [==============================] - 5s 8ms/step - loss: 0.3054 - accuracy: 0.8874 - val_loss: 0.2636 - val_accuracy: 0.9017\n",
      "Epoch 75/100\n",
      "614/614 [==============================] - 6s 9ms/step - loss: 0.2928 - accuracy: 0.8940 - val_loss: 0.2669 - val_accuracy: 0.9112\n",
      "Epoch 76/100\n",
      "614/614 [==============================] - 6s 9ms/step - loss: 0.2953 - accuracy: 0.8936 - val_loss: 0.2600 - val_accuracy: 0.9071\n",
      "Epoch 77/100\n",
      "614/614 [==============================] - 6s 10ms/step - loss: 0.2983 - accuracy: 0.8909 - val_loss: 0.2807 - val_accuracy: 0.8862\n",
      "Epoch 78/100\n",
      "614/614 [==============================] - 6s 9ms/step - loss: 0.2907 - accuracy: 0.8918 - val_loss: 0.2545 - val_accuracy: 0.9107\n",
      "Epoch 79/100\n",
      "614/614 [==============================] - 6s 9ms/step - loss: 0.3014 - accuracy: 0.8893 - val_loss: 0.2815 - val_accuracy: 0.9063\n",
      "Epoch 80/100\n",
      "614/614 [==============================] - 5s 8ms/step - loss: 0.2990 - accuracy: 0.8908 - val_loss: 0.3739 - val_accuracy: 0.8716\n",
      "Epoch 81/100\n",
      "614/614 [==============================] - 5s 8ms/step - loss: 0.3012 - accuracy: 0.8873 - val_loss: 0.2560 - val_accuracy: 0.9055\n",
      "Epoch 82/100\n",
      "614/614 [==============================] - 5s 8ms/step - loss: 0.2911 - accuracy: 0.8925 - val_loss: 0.2650 - val_accuracy: 0.9017\n",
      "Epoch 83/100\n",
      "614/614 [==============================] - 5s 8ms/step - loss: 0.2982 - accuracy: 0.8889 - val_loss: 0.2622 - val_accuracy: 0.9055\n",
      "Epoch 84/100\n",
      "614/614 [==============================] - 5s 8ms/step - loss: 0.2868 - accuracy: 0.8925 - val_loss: 0.2595 - val_accuracy: 0.9085\n",
      "Epoch 85/100\n",
      "614/614 [==============================] - 6s 9ms/step - loss: 0.2852 - accuracy: 0.8943 - val_loss: 0.2544 - val_accuracy: 0.9109\n",
      "Epoch 86/100\n",
      "614/614 [==============================] - 7s 11ms/step - loss: 0.2877 - accuracy: 0.8942 - val_loss: 0.2741 - val_accuracy: 0.9025\n",
      "Epoch 87/100\n",
      "614/614 [==============================] - 6s 10ms/step - loss: 0.3016 - accuracy: 0.8893 - val_loss: 0.2829 - val_accuracy: 0.9047\n",
      "Epoch 88/100\n",
      "614/614 [==============================] - 6s 9ms/step - loss: 0.2990 - accuracy: 0.8896 - val_loss: 0.2722 - val_accuracy: 0.9066\n",
      "Epoch 89/100\n",
      "614/614 [==============================] - 5s 9ms/step - loss: 0.2916 - accuracy: 0.8910 - val_loss: 0.2662 - val_accuracy: 0.9063\n",
      "Epoch 90/100\n",
      "614/614 [==============================] - 5s 9ms/step - loss: 0.2955 - accuracy: 0.8896 - val_loss: 0.3107 - val_accuracy: 0.8602\n",
      "Epoch 91/100\n",
      "614/614 [==============================] - 5s 9ms/step - loss: 0.2977 - accuracy: 0.8868 - val_loss: 0.2565 - val_accuracy: 0.9115\n",
      "Epoch 92/100\n",
      "614/614 [==============================] - 5s 8ms/step - loss: 0.3057 - accuracy: 0.8859 - val_loss: 0.2870 - val_accuracy: 0.9001\n",
      "Epoch 93/100\n",
      "614/614 [==============================] - 5s 8ms/step - loss: 0.3057 - accuracy: 0.8868 - val_loss: 0.2670 - val_accuracy: 0.9074\n",
      "Epoch 94/100\n",
      "614/614 [==============================] - 6s 9ms/step - loss: 0.2856 - accuracy: 0.8910 - val_loss: 0.2714 - val_accuracy: 0.8957\n",
      "Epoch 95/100\n",
      "614/614 [==============================] - 5s 8ms/step - loss: 0.2881 - accuracy: 0.8901 - val_loss: 0.2684 - val_accuracy: 0.9050\n",
      "Epoch 96/100\n",
      "614/614 [==============================] - 8s 14ms/step - loss: 0.3030 - accuracy: 0.8901 - val_loss: 0.2738 - val_accuracy: 0.9031\n",
      "Epoch 97/100\n",
      "614/614 [==============================] - 6s 10ms/step - loss: 0.2878 - accuracy: 0.8942 - val_loss: 0.2777 - val_accuracy: 0.9044\n",
      "Epoch 98/100\n",
      "614/614 [==============================] - 6s 10ms/step - loss: 0.2912 - accuracy: 0.8902 - val_loss: 0.2552 - val_accuracy: 0.9088\n",
      "Epoch 99/100\n",
      "614/614 [==============================] - 5s 8ms/step - loss: 0.3035 - accuracy: 0.8859 - val_loss: 0.2773 - val_accuracy: 0.9031\n",
      "Epoch 100/100\n",
      "614/614 [==============================] - 5s 8ms/step - loss: 0.3058 - accuracy: 0.8840 - val_loss: 0.2920 - val_accuracy: 0.8919\n"
     ]
    },
    {
     "data": {
      "text/plain": [
       "<keras.callbacks.History at 0x12ca4921fd0>"
      ]
     },
     "execution_count": 15,
     "metadata": {},
     "output_type": "execute_result"
    }
   ],
   "source": [
    "import tensorflow as tf\n",
    "from tensorflow.keras.models import Sequential\n",
    "from tensorflow.keras.layers import Conv1D, MaxPooling1D, Flatten, Dense, SimpleRNN, Dropout\n",
    "\n",
    "# Define input shape based on your data\n",
    "input_shape = (x_training_data.shape[1], 1)  # Shape of your input data assuming it's sequential\n",
    "\n",
    "# Define the number of classes for the output\n",
    "num_classes = 5  # Assuming you have 6 classes for the output\n",
    "\n",
    "# Create the combined RNN-CNN model\n",
    "model = Sequential([\n",
    "    # CNN layers\n",
    "    Conv1D(32, 3, activation='relu', input_shape=input_shape),\n",
    "    MaxPooling1D(2),\n",
    "    Conv1D(64, 3, activation='relu'),\n",
    "    MaxPooling1D(2),\n",
    "    #Flatten(),\n",
    "\n",
    "    # RNN layers\n",
    "    SimpleRNN(units=64, return_sequences=True),\n",
    "    Dropout(0.2),\n",
    "    SimpleRNN(units=64),\n",
    "    Dropout(0.2),\n",
    "\n",
    "    # Output layer\n",
    "    Dense(num_classes, activation='softmax')\n",
    "])\n",
    "\n",
    "# Compile the model\n",
    "model.compile(optimizer='adam',\n",
    "              loss='sparse_categorical_crossentropy',\n",
    "              metrics=['accuracy'])\n",
    "\n",
    "# Print the model summary\n",
    "model.summary()\n",
    "\n",
    "# Train the model\n",
    "model.fit(X_train, y_train, epochs=100, batch_size=24, validation_data=(X_test, y_test))\n"
   ]
  },
  {
   "cell_type": "code",
   "execution_count": 20,
   "id": "e262af8e",
   "metadata": {
    "scrolled": true
   },
   "outputs": [
    {
     "name": "stdout",
     "output_type": "stream",
     "text": [
      "Model: \"sequential_2\"\n",
      "_________________________________________________________________\n",
      " Layer (type)                Output Shape              Param #   \n",
      "=================================================================\n",
      " simple_rnn_5 (SimpleRNN)    (None, 50, 64)            4224      \n",
      "                                                                 \n",
      " dropout_5 (Dropout)         (None, 50, 64)            0         \n",
      "                                                                 \n",
      " simple_rnn_6 (SimpleRNN)    (None, 50, 64)            8256      \n",
      "                                                                 \n",
      " dropout_6 (Dropout)         (None, 50, 64)            0         \n",
      "                                                                 \n",
      " simple_rnn_7 (SimpleRNN)    (None, 64)                8256      \n",
      "                                                                 \n",
      " dropout_7 (Dropout)         (None, 64)                0         \n",
      "                                                                 \n",
      " dense_2 (Dense)             (None, 5)                 325       \n",
      "                                                                 \n",
      "=================================================================\n",
      "Total params: 21,061\n",
      "Trainable params: 21,061\n",
      "Non-trainable params: 0\n",
      "_________________________________________________________________\n",
      "Epoch 1/75\n",
      "461/461 [==============================] - 10s 19ms/step - loss: 0.8381 - accuracy: 0.6931 - val_loss: 0.5444 - val_accuracy: 0.8140\n",
      "Epoch 2/75\n",
      "461/461 [==============================] - 11s 23ms/step - loss: 0.5990 - accuracy: 0.7956 - val_loss: 0.4740 - val_accuracy: 0.8412\n",
      "Epoch 3/75\n",
      "461/461 [==============================] - 12s 27ms/step - loss: 0.5274 - accuracy: 0.8125 - val_loss: 0.4406 - val_accuracy: 0.8374\n",
      "Epoch 4/75\n",
      "461/461 [==============================] - 13s 27ms/step - loss: 0.4910 - accuracy: 0.8246 - val_loss: 0.4071 - val_accuracy: 0.8566\n",
      "Epoch 5/75\n",
      "461/461 [==============================] - 12s 27ms/step - loss: 0.4612 - accuracy: 0.8328 - val_loss: 0.3765 - val_accuracy: 0.8661\n",
      "Epoch 6/75\n",
      "461/461 [==============================] - 13s 27ms/step - loss: 0.4314 - accuracy: 0.8442 - val_loss: 0.3734 - val_accuracy: 0.8740\n",
      "Epoch 7/75\n",
      "461/461 [==============================] - 12s 27ms/step - loss: 0.4164 - accuracy: 0.8485 - val_loss: 0.3606 - val_accuracy: 0.8634\n",
      "Epoch 8/75\n",
      "461/461 [==============================] - 12s 26ms/step - loss: 0.3944 - accuracy: 0.8629 - val_loss: 0.3336 - val_accuracy: 0.8895\n",
      "Epoch 9/75\n",
      "461/461 [==============================] - 13s 29ms/step - loss: 0.3783 - accuracy: 0.8684 - val_loss: 0.3338 - val_accuracy: 0.8879\n",
      "Epoch 10/75\n",
      "461/461 [==============================] - 13s 27ms/step - loss: 0.3753 - accuracy: 0.8731 - val_loss: 0.3255 - val_accuracy: 0.8944\n",
      "Epoch 11/75\n",
      "461/461 [==============================] - 13s 29ms/step - loss: 0.3672 - accuracy: 0.8751 - val_loss: 0.3166 - val_accuracy: 0.8908\n",
      "Epoch 12/75\n",
      "461/461 [==============================] - 12s 26ms/step - loss: 0.3620 - accuracy: 0.8770 - val_loss: 0.3114 - val_accuracy: 0.8957\n",
      "Epoch 13/75\n",
      "461/461 [==============================] - 12s 27ms/step - loss: 0.3583 - accuracy: 0.8768 - val_loss: 0.3163 - val_accuracy: 0.8944\n",
      "Epoch 14/75\n",
      "461/461 [==============================] - 13s 27ms/step - loss: 0.3436 - accuracy: 0.8819 - val_loss: 0.3068 - val_accuracy: 0.8971\n",
      "Epoch 15/75\n",
      "461/461 [==============================] - 12s 26ms/step - loss: 0.3397 - accuracy: 0.8834 - val_loss: 0.3058 - val_accuracy: 0.8976\n",
      "Epoch 16/75\n",
      "461/461 [==============================] - 12s 27ms/step - loss: 0.3356 - accuracy: 0.8832 - val_loss: 0.2972 - val_accuracy: 0.8985\n",
      "Epoch 17/75\n",
      "461/461 [==============================] - 12s 26ms/step - loss: 0.3359 - accuracy: 0.8823 - val_loss: 0.2927 - val_accuracy: 0.9039\n",
      "Epoch 18/75\n",
      "461/461 [==============================] - 12s 26ms/step - loss: 0.3315 - accuracy: 0.8859 - val_loss: 0.2892 - val_accuracy: 0.9009\n",
      "Epoch 19/75\n",
      "461/461 [==============================] - 12s 26ms/step - loss: 0.3253 - accuracy: 0.8880 - val_loss: 0.2916 - val_accuracy: 0.9031\n",
      "Epoch 20/75\n",
      "461/461 [==============================] - 13s 28ms/step - loss: 0.3200 - accuracy: 0.8902 - val_loss: 0.2786 - val_accuracy: 0.9052\n",
      "Epoch 21/75\n",
      "461/461 [==============================] - 12s 27ms/step - loss: 0.3198 - accuracy: 0.8898 - val_loss: 0.2812 - val_accuracy: 0.9058\n",
      "Epoch 22/75\n",
      "461/461 [==============================] - 12s 26ms/step - loss: 0.3109 - accuracy: 0.8891 - val_loss: 0.2772 - val_accuracy: 0.9044\n",
      "Epoch 23/75\n",
      "461/461 [==============================] - 12s 27ms/step - loss: 0.3110 - accuracy: 0.8923 - val_loss: 0.2831 - val_accuracy: 0.9025\n",
      "Epoch 24/75\n",
      "461/461 [==============================] - 12s 27ms/step - loss: 0.3070 - accuracy: 0.8918 - val_loss: 0.2811 - val_accuracy: 0.9061\n",
      "Epoch 25/75\n",
      "461/461 [==============================] - 12s 26ms/step - loss: 0.3034 - accuracy: 0.8948 - val_loss: 0.2702 - val_accuracy: 0.9066\n",
      "Epoch 26/75\n",
      "461/461 [==============================] - 13s 28ms/step - loss: 0.3048 - accuracy: 0.8950 - val_loss: 0.2733 - val_accuracy: 0.9044\n",
      "Epoch 27/75\n",
      "461/461 [==============================] - 12s 27ms/step - loss: 0.3039 - accuracy: 0.8948 - val_loss: 0.2803 - val_accuracy: 0.8963\n",
      "Epoch 28/75\n",
      "461/461 [==============================] - 13s 27ms/step - loss: 0.2997 - accuracy: 0.8969 - val_loss: 0.2842 - val_accuracy: 0.9063\n",
      "Epoch 29/75\n",
      "461/461 [==============================] - 13s 28ms/step - loss: 0.2974 - accuracy: 0.8974 - val_loss: 0.2675 - val_accuracy: 0.9088\n",
      "Epoch 30/75\n",
      "461/461 [==============================] - 13s 27ms/step - loss: 0.2944 - accuracy: 0.9000 - val_loss: 0.2664 - val_accuracy: 0.8987\n",
      "Epoch 31/75\n",
      "461/461 [==============================] - 13s 28ms/step - loss: 0.2973 - accuracy: 0.8984 - val_loss: 0.2644 - val_accuracy: 0.9226\n",
      "Epoch 32/75\n",
      "461/461 [==============================] - 13s 28ms/step - loss: 0.2840 - accuracy: 0.9026 - val_loss: 0.2918 - val_accuracy: 0.9156\n",
      "Epoch 33/75\n",
      "461/461 [==============================] - 13s 28ms/step - loss: 0.2883 - accuracy: 0.9032 - val_loss: 0.2493 - val_accuracy: 0.9267\n",
      "Epoch 34/75\n",
      "461/461 [==============================] - 12s 26ms/step - loss: 0.2899 - accuracy: 0.9032 - val_loss: 0.2638 - val_accuracy: 0.9221\n",
      "Epoch 35/75\n",
      "461/461 [==============================] - 12s 26ms/step - loss: 0.2868 - accuracy: 0.9023 - val_loss: 0.2602 - val_accuracy: 0.9004\n",
      "Epoch 36/75\n",
      "461/461 [==============================] - 13s 28ms/step - loss: 0.2844 - accuracy: 0.9019 - val_loss: 0.2682 - val_accuracy: 0.9004\n",
      "Epoch 37/75\n",
      "461/461 [==============================] - 12s 26ms/step - loss: 0.2811 - accuracy: 0.9054 - val_loss: 0.2621 - val_accuracy: 0.9077\n",
      "Epoch 38/75\n",
      "461/461 [==============================] - 12s 27ms/step - loss: 0.2744 - accuracy: 0.9060 - val_loss: 0.2541 - val_accuracy: 0.9150\n"
     ]
    }
   ],
   "source": [
    "import tensorflow as tf\n",
    "from tensorflow.keras.models import Sequential\n",
    "from tensorflow.keras.layers import SimpleRNN, Dense, Dropout\n",
    "from tensorflow.keras.callbacks import EarlyStopping\n",
    "\n",
    "# Define input shape based on your data\n",
    "input_shape = (x_training_data.shape[1], 1)  # Shape of your input data\n",
    "\n",
    "# Define the number of classes for the output\n",
    "num_classes = 5  # Assuming you have 6 classes for the output\n",
    "\n",
    "# Create the RNN model\n",
    "rnn_model = Sequential([\n",
    "    SimpleRNN(units=64, return_sequences=True, input_shape=input_shape),\n",
    "    Dropout(0.2),\n",
    "    SimpleRNN(units=64, return_sequences=True),\n",
    "    Dropout(0.2),\n",
    "    SimpleRNN(units=64),\n",
    "    Dropout(0.2),\n",
    "    Dense(units=num_classes, activation='softmax')\n",
    "])\n",
    "\n",
    "# Compile the model\n",
    "rnn_model.compile(optimizer='adam',\n",
    "                  loss='sparse_categorical_crossentropy',\n",
    "                  metrics=['accuracy'])\n",
    "\n",
    "# Define early stopping callback\n",
    "early_stopping = EarlyStopping(monitor='val_loss', patience=5, restore_best_weights=True)\n",
    "\n",
    "# Print the model summary\n",
    "rnn_model.summary()\n",
    "\n",
    "# Train the model with early stopping\n",
    "history = rnn_model.fit(X_train, y_train, epochs=75, batch_size=32,\n",
    "                        validation_data=(X_test, y_test), callbacks=[early_stopping])\n"
   ]
  },
  {
   "cell_type": "code",
   "execution_count": 17,
   "id": "fe2c5c06",
   "metadata": {},
   "outputs": [
    {
     "name": "stdout",
     "output_type": "stream",
     "text": [
      "Test loss: 0.2919861972332001\n",
      "Test accuracy: 0.8919359445571899\n"
     ]
    }
   ],
   "source": [
    "# Evaluate the model\n",
    "score = model.evaluate(X_test, y_test, verbose=0)\n",
    "print(\"Test loss:\", score[0])\n",
    "print(\"Test accuracy:\", score[1])"
   ]
  },
  {
   "cell_type": "code",
   "execution_count": 21,
   "id": "a50ecdee",
   "metadata": {},
   "outputs": [
    {
     "name": "stdout",
     "output_type": "stream",
     "text": [
      "Test loss: 0.24927349388599396\n",
      "Test accuracy: 0.9266902208328247\n"
     ]
    }
   ],
   "source": [
    "# Evaluate the model\n",
    "score = rnn_model.evaluate(X_test, y_test, verbose=0)\n",
    "print(\"Test loss:\", score[0])\n",
    "print(\"Test accuracy:\", score[1])"
   ]
  },
  {
   "cell_type": "code",
   "execution_count": 19,
   "id": "0feaf093",
   "metadata": {},
   "outputs": [
    {
     "name": "stdout",
     "output_type": "stream",
     "text": [
      "Accuracy: 0.9994569644311703\n"
     ]
    }
   ],
   "source": [
    "from sklearn.ensemble import RandomForestClassifier\n",
    "from sklearn.metrics import accuracy_score\n",
    "\n",
    "# Create a Random Forest Classifier\n",
    "rf_classifier = RandomForestClassifier(n_estimators=100, random_state=42)\n",
    "\n",
    "# Train the classifier\n",
    "rf_classifier.fit(X_train, y_train)\n",
    "\n",
    "# Predict on the test set\n",
    "y_pred = rf_classifier.predict(X_test)\n",
    "\n",
    "# Calculate accuracy\n",
    "accuracy = accuracy_score(y_test, y_pred)\n",
    "print(\"Accuracy:\", accuracy)\n"
   ]
  },
  {
   "cell_type": "code",
   "execution_count": null,
   "id": "827ed08c",
   "metadata": {},
   "outputs": [],
   "source": []
  },
  {
   "cell_type": "code",
   "execution_count": null,
   "id": "ad0ccb65",
   "metadata": {},
   "outputs": [],
   "source": []
  },
  {
   "cell_type": "code",
   "execution_count": null,
   "id": "3b4f46f6",
   "metadata": {},
   "outputs": [],
   "source": []
  },
  {
   "cell_type": "code",
   "execution_count": null,
   "id": "c3cf8aef",
   "metadata": {},
   "outputs": [],
   "source": []
  }
 ],
 "metadata": {
  "kernelspec": {
   "display_name": "Python 3 (ipykernel)",
   "language": "python",
   "name": "python3"
  },
  "language_info": {
   "codemirror_mode": {
    "name": "ipython",
    "version": 3
   },
   "file_extension": ".py",
   "mimetype": "text/x-python",
   "name": "python",
   "nbconvert_exporter": "python",
   "pygments_lexer": "ipython3",
   "version": "3.9.16"
  }
 },
 "nbformat": 4,
 "nbformat_minor": 5
}
