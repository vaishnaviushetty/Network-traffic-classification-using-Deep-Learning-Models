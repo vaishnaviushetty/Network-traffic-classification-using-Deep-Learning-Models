{
 "cells": [
  {
   "cell_type": "code",
   "execution_count": null,
   "id": "c098ab00",
   "metadata": {},
   "outputs": [],
   "source": [
    "import os\n",
    "import pandas as pd\n",
    "\n",
    "def add_label_column(csv_path, output_folder):\n",
    "    # Load the CSV file\n",
    "    df = pd.read_csv(csv_path)\n",
    "\n",
    "    # Add a new column called 'Label'\n",
    "    df['Label'] = 'FILE TRANSFER'  # You can set your desired label value here\n",
    "\n",
    "    # Extract the file name without extension\n",
    "    file_name = os.path.splitext(os.path.basename(csv_path))[0]\n",
    "\n",
    "    # Create the new folder if it doesn't exist\n",
    "    os.makedirs(output_folder, exist_ok=True)\n",
    "\n",
    "    # Define the path for the new CSV file with the added label column\n",
    "    new_csv_path = os.path.join(output_folder, f\"{file_name}_with_label.csv\")\n",
    "\n",
    "    # Save the DataFrame with the added label column to the new CSV file\n",
    "    df.to_csv(new_csv_path, index=False)\n",
    "\n",
    "    print(f\"New CSV file with added 'Label' column saved at: {new_csv_path}\")\n",
    "\n",
    "if __name__ == \"__main__\":\n",
    "    # Input the path of the CSV file\n",
    "    csv_path = input(\"Enter the path of the CSV file: \")\n",
    "    # Input the path of the output folder\n",
    "    output_folder = input(\"Enter the path of the output folder: \")\n",
    "    add_label_column(csv_path, output_folder)"
   ]
  }
 ],
 "metadata": {
  "kernelspec": {
   "display_name": "Python 3 (ipykernel)",
   "language": "python",
   "name": "python3"
  },
  "language_info": {
   "codemirror_mode": {
    "name": "ipython",
    "version": 3
   },
   "file_extension": ".py",
   "mimetype": "text/x-python",
   "name": "python",
   "nbconvert_exporter": "python",
   "pygments_lexer": "ipython3",
   "version": "3.9.16"
  }
 },
 "nbformat": 4,
 "nbformat_minor": 5
}
