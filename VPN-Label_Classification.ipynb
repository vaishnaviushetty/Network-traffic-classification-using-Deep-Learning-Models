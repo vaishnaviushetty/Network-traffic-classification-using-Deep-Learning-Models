{
 "cells": [
  {
   "cell_type": "code",
   "execution_count": 27,
   "id": "4ddd8775",
   "metadata": {},
   "outputs": [],
   "source": [
    "import pandas as pd\n",
    "import numpy as np"
   ]
  },
  {
   "cell_type": "code",
   "execution_count": 28,
   "id": "ca5f6b37",
   "metadata": {},
   "outputs": [],
   "source": [
    "combined_df=pd.read_csv(\"file.csv\")"
   ]
  },
  {
   "cell_type": "code",
   "execution_count": 29,
   "id": "b54a69d9",
   "metadata": {},
   "outputs": [
    {
     "name": "stdout",
     "output_type": "stream",
     "text": [
      "Row count: 423385\n",
      "Column count: 73\n"
     ]
    }
   ],
   "source": [
    "row_count, column_count = combined_df.shape\n",
    "print(\"Row count:\", row_count)\n",
    "print(\"Column count:\", column_count)\n"
   ]
  },
  {
   "cell_type": "code",
   "execution_count": 30,
   "id": "2ec6587a",
   "metadata": {},
   "outputs": [
    {
     "name": "stdout",
     "output_type": "stream",
     "text": [
      "\n",
      "Label Distribution:\n",
      "Label\n",
      "VOIP             410848\n",
      "P2P                6769\n",
      "CHAT               3609\n",
      "STREAMING          1663\n",
      "EMAIL               333\n",
      "FILE TRANSFER       163\n",
      "Name: count, dtype: int64\n"
     ]
    }
   ],
   "source": [
    "label_distribution = combined_df['Label'].value_counts()\n",
    "print(\"\\nLabel Distribution:\")\n",
    "print(label_distribution)"
   ]
  },
  {
   "cell_type": "code",
   "execution_count": 31,
   "id": "8d24bc0a",
   "metadata": {},
   "outputs": [],
   "source": [
    "from sklearn.preprocessing import LabelEncoder\n",
    "from sklearn.model_selection import train_test_split\n",
    "from sklearn.preprocessing import LabelEncoder\n",
    "from keras.models import Sequential\n",
    "from keras.layers import LSTM, Dense, Embedding, SpatialDropout1D,Dropout\n",
    "from keras.preprocessing.text import Tokenizer\n",
    "from keras.utils.np_utils import to_categorical"
   ]
  },
  {
   "cell_type": "code",
   "execution_count": 32,
   "id": "e2cc492b",
   "metadata": {},
   "outputs": [
    {
     "name": "stdout",
     "output_type": "stream",
     "text": [
      "(9768, 73)\n"
     ]
    }
   ],
   "source": [
    "# Assuming combined_df is your DataFrame containing the data\n",
    "voip_packets = combined_df[combined_df['Label'] == 'VOIP'].head(1000)\n",
    "p2p_packets = combined_df[combined_df['Label'] == 'P2P'].head(1000)\n",
    "\n",
    "remaining_packets = combined_df[(combined_df['Label'] != 'VOIP') & (combined_df['Label'] != 'P2P') ]\n",
    "\n",
    "# Concatenate the first 2000 VOIP packets, 2000 P2P packets, and the remaining packets\n",
    "final_dataset = pd.concat([voip_packets, p2p_packets, remaining_packets], ignore_index=True)\n",
    "print(final_dataset.shape)\n"
   ]
  },
  {
   "cell_type": "code",
   "execution_count": 33,
   "id": "0c6b3d69",
   "metadata": {},
   "outputs": [
    {
     "name": "stdout",
     "output_type": "stream",
     "text": [
      "      ip.proto  tcp.srcport  tcp.dstport  udp.srcport  udp.dstport  tcp.seq   \n",
      "0           17          NaN          NaN      28156.0         53.0      NaN  \\\n",
      "1           17          NaN          NaN      28156.0         53.0      NaN   \n",
      "2           17          NaN          NaN      28156.0         53.0      NaN   \n",
      "3           17          NaN          NaN         53.0      28156.0      NaN   \n",
      "4           17          NaN          NaN         53.0      28156.0      NaN   \n",
      "...        ...          ...          ...          ...          ...      ...   \n",
      "9763        17          NaN          NaN        443.0      51753.0      NaN   \n",
      "9764        17          NaN          NaN      51753.0        443.0      NaN   \n",
      "9765        17          NaN          NaN      34134.0         53.0      NaN   \n",
      "9766        17          NaN          NaN      34134.0         53.0      NaN   \n",
      "9767        17          NaN          NaN         53.0      34134.0      NaN   \n",
      "\n",
      "      frame.time_epoch  tcp.stream  ip.flags.df  frame.encap_type  ...   \n",
      "0         1.429038e+09         NaN            1                 7  ...  \\\n",
      "1         1.429038e+09         NaN            1                 7  ...   \n",
      "2         1.429038e+09         NaN            1                 7  ...   \n",
      "3         1.429038e+09         NaN            0                 7  ...   \n",
      "4         1.429038e+09         NaN            0                 7  ...   \n",
      "...                ...         ...          ...               ...  ...   \n",
      "9763      1.432323e+09         NaN            0                 7  ...   \n",
      "9764      1.432323e+09         NaN            1                 7  ...   \n",
      "9765      1.432323e+09         NaN            1                 7  ...   \n",
      "9766      1.432323e+09         NaN            1                 7  ...   \n",
      "9767      1.432323e+09         NaN            0                 7  ...   \n",
      "\n",
      "      frame.packet_flags_fcs_length  ip.fragment.error  tcp.analysis.flags.1   \n",
      "0                               NaN                NaN                   NaN  \\\n",
      "1                               NaN                NaN                   NaN   \n",
      "2                               NaN                NaN                   NaN   \n",
      "3                               NaN                NaN                   NaN   \n",
      "4                               NaN                NaN                   NaN   \n",
      "...                             ...                ...                   ...   \n",
      "9763                            NaN                NaN                   NaN   \n",
      "9764                            NaN                NaN                   NaN   \n",
      "9765                            NaN                NaN                   NaN   \n",
      "9766                            NaN                NaN                   NaN   \n",
      "9767                            NaN                NaN                   NaN   \n",
      "\n",
      "      tcp.analysis.keep_alive  tcp.analysis.window_full   \n",
      "0                         NaN                       NaN  \\\n",
      "1                         NaN                       NaN   \n",
      "2                         NaN                       NaN   \n",
      "3                         NaN                       NaN   \n",
      "4                         NaN                       NaN   \n",
      "...                       ...                       ...   \n",
      "9763                      NaN                       NaN   \n",
      "9764                      NaN                       NaN   \n",
      "9765                      NaN                       NaN   \n",
      "9766                      NaN                       NaN   \n",
      "9767                      NaN                       NaN   \n",
      "\n",
      "      tcp.analysis.window_update  tcp.analysis.zero_window   \n",
      "0                            NaN                       NaN  \\\n",
      "1                            NaN                       NaN   \n",
      "2                            NaN                       NaN   \n",
      "3                            NaN                       NaN   \n",
      "4                            NaN                       NaN   \n",
      "...                          ...                       ...   \n",
      "9763                         NaN                       NaN   \n",
      "9764                         NaN                       NaN   \n",
      "9765                         NaN                       NaN   \n",
      "9766                         NaN                       NaN   \n",
      "9767                         NaN                       NaN   \n",
      "\n",
      "      tcp.analysis.zero_window_probe  frame.cap_len.1          Label  \n",
      "0                                NaN               62           VOIP  \n",
      "1                                NaN               62           VOIP  \n",
      "2                                NaN               62           VOIP  \n",
      "3                                NaN              169           VOIP  \n",
      "4                                NaN              169           VOIP  \n",
      "...                              ...              ...            ...  \n",
      "9763                             NaN              147  FILE TRANSFER  \n",
      "9764                             NaN               68  FILE TRANSFER  \n",
      "9765                             NaN               63  FILE TRANSFER  \n",
      "9766                             NaN               63  FILE TRANSFER  \n",
      "9767                             NaN               63  FILE TRANSFER  \n",
      "\n",
      "[9768 rows x 67 columns]\n"
     ]
    }
   ],
   "source": [
    "unwanted_columns = ['frame.len','tcp.flags.syn','tcp.flags.ack','tcp.flags.push', 'tcp.flags.reset',\\\n",
    "                   'data.len']  # Add all unwanted column names here\n",
    "# Remove unwanted columns from the DataFrame\n",
    "filtered_df = final_dataset.drop(columns=unwanted_columns)\n",
    "\n",
    "# Display the filtered DataFrame\n",
    "print(filtered_df)\n"
   ]
  },
  {
   "cell_type": "code",
   "execution_count": 34,
   "id": "9096991e",
   "metadata": {
    "scrolled": true
   },
   "outputs": [
    {
     "name": "stdout",
     "output_type": "stream",
     "text": [
      "Encoded Labels:\n",
      "Label\n",
      "0    3609\n",
      "5    2000\n",
      "3    2000\n",
      "4    1663\n",
      "1     333\n",
      "2     163\n",
      "Name: count, dtype: int64\n"
     ]
    }
   ],
   "source": [
    "# Create a LabelEncoder object\n",
    "label_encoder = LabelEncoder()\n",
    "\n",
    "# Fit and transform the 'Label' column\n",
    "filtered_df['Label'] = label_encoder.fit_transform(filtered_df['Label'])\n",
    "\n",
    " # Display the encoded labels\n",
    "print(\"Encoded Labels:\")\n",
    "print(filtered_df['Label'].value_counts())\n"
   ]
  },
  {
   "cell_type": "code",
   "execution_count": 35,
   "id": "e5786023",
   "metadata": {},
   "outputs": [
    {
     "name": "stdout",
     "output_type": "stream",
     "text": [
      "{'CHAT': 0, 'EMAIL': 1, 'FILE TRANSFER': 2, 'P2P': 3, 'STREAMING': 4, 'VOIP': 5}\n"
     ]
    }
   ],
   "source": [
    "# Mapping original labels to encoded values\n",
    "label_mapping = dict(zip(label_encoder.classes_, label_encoder.transform(label_encoder.classes_)))\n",
    "print(label_mapping)"
   ]
  },
  {
   "cell_type": "code",
   "execution_count": 36,
   "id": "d1128f04",
   "metadata": {},
   "outputs": [],
   "source": [
    "X = filtered_df.drop(columns=['Label'])\n",
    "y = filtered_df['Label']\n"
   ]
  },
  {
   "cell_type": "code",
   "execution_count": 37,
   "id": "cb82f814",
   "metadata": {},
   "outputs": [],
   "source": [
    "encoder = LabelEncoder()\n",
    "y = encoder.fit_transform(y)\n",
    "num_classes = len(encoder.classes_)\n"
   ]
  },
  {
   "cell_type": "code",
   "execution_count": 38,
   "id": "7b4fce43",
   "metadata": {},
   "outputs": [
    {
     "name": "stdout",
     "output_type": "stream",
     "text": [
      "(7814, 66)\n",
      "(7814,)\n"
     ]
    }
   ],
   "source": [
    "X_train, X_test, y_train, y_test = train_test_split(X, y, test_size=0.2, random_state=42)\n",
    "print(X_train.shape)\n",
    "print(y_train.shape)"
   ]
  },
  {
   "cell_type": "code",
   "execution_count": 39,
   "id": "68c65027",
   "metadata": {},
   "outputs": [],
   "source": [
    "from sklearn.impute import SimpleImputer\n",
    "\n",
    "# Impute missing values in the features\n",
    "imputer = SimpleImputer(strategy='mean')\n",
    "X_train = imputer.fit_transform(X_train)\n",
    "X_test= imputer.transform(X_test)"
   ]
  },
  {
   "cell_type": "code",
   "execution_count": 40,
   "id": "f7f0a515",
   "metadata": {},
   "outputs": [
    {
     "name": "stdout",
     "output_type": "stream",
     "text": [
      "(7814, 28, 1)\n"
     ]
    }
   ],
   "source": [
    "x_training_data = np.reshape(X_train, (X_train.shape[0], X_train.shape[1],1))\n",
    "print(x_training_data.shape)\n"
   ]
  },
  {
   "cell_type": "code",
   "execution_count": 41,
   "id": "3356a62b",
   "metadata": {
    "scrolled": false
   },
   "outputs": [
    {
     "name": "stdout",
     "output_type": "stream",
     "text": [
      "Model: \"sequential_7\"\n",
      "_________________________________________________________________\n",
      " Layer (type)                Output Shape              Param #   \n",
      "=================================================================\n",
      " conv1d_13 (Conv1D)          (None, 26, 32)            128       \n",
      "                                                                 \n",
      " max_pooling1d_13 (MaxPoolin  (None, 13, 32)           0         \n",
      " g1D)                                                            \n",
      "                                                                 \n",
      " conv1d_14 (Conv1D)          (None, 11, 64)            6208      \n",
      "                                                                 \n",
      " max_pooling1d_14 (MaxPoolin  (None, 5, 64)            0         \n",
      " g1D)                                                            \n",
      "                                                                 \n",
      " simple_rnn_17 (SimpleRNN)   (None, 5, 64)             8256      \n",
      "                                                                 \n",
      " dropout_17 (Dropout)        (None, 5, 64)             0         \n",
      "                                                                 \n",
      " simple_rnn_18 (SimpleRNN)   (None, 64)                8256      \n",
      "                                                                 \n",
      " dropout_18 (Dropout)        (None, 64)                0         \n",
      "                                                                 \n",
      " dense_7 (Dense)             (None, 6)                 390       \n",
      "                                                                 \n",
      "=================================================================\n",
      "Total params: 23,238\n",
      "Trainable params: 23,238\n",
      "Non-trainable params: 0\n",
      "_________________________________________________________________\n",
      "Epoch 1/100\n",
      "326/326 [==============================] - 4s 7ms/step - loss: 1.2387 - accuracy: 0.5139 - val_loss: 1.0439 - val_accuracy: 0.5983\n",
      "Epoch 2/100\n",
      "326/326 [==============================] - 2s 6ms/step - loss: 1.0618 - accuracy: 0.5843 - val_loss: 0.9740 - val_accuracy: 0.6356\n",
      "Epoch 3/100\n",
      "326/326 [==============================] - 2s 7ms/step - loss: 0.9979 - accuracy: 0.6134 - val_loss: 0.9661 - val_accuracy: 0.6336\n",
      "Epoch 4/100\n",
      "326/326 [==============================] - 2s 6ms/step - loss: 0.9339 - accuracy: 0.6463 - val_loss: 0.8672 - val_accuracy: 0.6540\n",
      "Epoch 5/100\n",
      "326/326 [==============================] - 2s 7ms/step - loss: 0.8932 - accuracy: 0.6668 - val_loss: 0.8745 - val_accuracy: 0.6131\n",
      "Epoch 6/100\n",
      "326/326 [==============================] - 2s 7ms/step - loss: 0.8615 - accuracy: 0.6808 - val_loss: 0.8140 - val_accuracy: 0.7180\n",
      "Epoch 7/100\n",
      "326/326 [==============================] - 2s 7ms/step - loss: 0.7814 - accuracy: 0.7174 - val_loss: 0.7180 - val_accuracy: 0.7554\n",
      "Epoch 8/100\n",
      "326/326 [==============================] - 2s 5ms/step - loss: 0.7309 - accuracy: 0.7410 - val_loss: 0.6671 - val_accuracy: 0.7758\n",
      "Epoch 9/100\n",
      "326/326 [==============================] - 2s 7ms/step - loss: 0.6894 - accuracy: 0.7640 - val_loss: 0.7141 - val_accuracy: 0.7390\n",
      "Epoch 10/100\n",
      "326/326 [==============================] - 2s 7ms/step - loss: 0.6325 - accuracy: 0.7886 - val_loss: 0.6159 - val_accuracy: 0.8158\n",
      "Epoch 11/100\n",
      "326/326 [==============================] - 2s 7ms/step - loss: 0.6560 - accuracy: 0.7777 - val_loss: 0.6424 - val_accuracy: 0.7861\n",
      "Epoch 12/100\n",
      "326/326 [==============================] - 2s 7ms/step - loss: 0.6261 - accuracy: 0.7937 - val_loss: 0.6035 - val_accuracy: 0.7876\n",
      "Epoch 13/100\n",
      "326/326 [==============================] - 2s 7ms/step - loss: 0.6244 - accuracy: 0.7886 - val_loss: 0.6402 - val_accuracy: 0.7922\n",
      "Epoch 14/100\n",
      "326/326 [==============================] - 2s 7ms/step - loss: 0.6108 - accuracy: 0.7959 - val_loss: 0.6509 - val_accuracy: 0.7917\n",
      "Epoch 15/100\n",
      "326/326 [==============================] - 2s 7ms/step - loss: 0.5758 - accuracy: 0.8112 - val_loss: 0.5955 - val_accuracy: 0.8050\n",
      "Epoch 16/100\n",
      "326/326 [==============================] - 2s 8ms/step - loss: 0.5644 - accuracy: 0.8137 - val_loss: 0.5838 - val_accuracy: 0.8132\n",
      "Epoch 17/100\n",
      "326/326 [==============================] - 2s 8ms/step - loss: 0.5390 - accuracy: 0.8206 - val_loss: 0.5618 - val_accuracy: 0.8209\n",
      "Epoch 18/100\n",
      "326/326 [==============================] - 2s 7ms/step - loss: 0.5216 - accuracy: 0.8265 - val_loss: 0.5386 - val_accuracy: 0.8204\n",
      "Epoch 19/100\n",
      "326/326 [==============================] - 2s 7ms/step - loss: 0.5155 - accuracy: 0.8251 - val_loss: 0.5286 - val_accuracy: 0.8378\n",
      "Epoch 20/100\n",
      "326/326 [==============================] - 2s 7ms/step - loss: 0.5153 - accuracy: 0.8226 - val_loss: 0.5507 - val_accuracy: 0.8188\n",
      "Epoch 21/100\n",
      "326/326 [==============================] - 2s 7ms/step - loss: 0.5197 - accuracy: 0.8274 - val_loss: 0.5179 - val_accuracy: 0.8332\n",
      "Epoch 22/100\n",
      "326/326 [==============================] - 2s 7ms/step - loss: 0.5101 - accuracy: 0.8313 - val_loss: 0.5176 - val_accuracy: 0.8367\n",
      "Epoch 23/100\n",
      "326/326 [==============================] - 2s 7ms/step - loss: 0.5092 - accuracy: 0.8303 - val_loss: 0.5570 - val_accuracy: 0.8091\n",
      "Epoch 24/100\n",
      "326/326 [==============================] - 2s 7ms/step - loss: 0.5079 - accuracy: 0.8313 - val_loss: 0.5187 - val_accuracy: 0.8280\n",
      "Epoch 25/100\n",
      "326/326 [==============================] - 2s 6ms/step - loss: 0.4899 - accuracy: 0.8370 - val_loss: 0.5859 - val_accuracy: 0.7948\n",
      "Epoch 26/100\n",
      "326/326 [==============================] - 2s 5ms/step - loss: 0.4985 - accuracy: 0.8307 - val_loss: 0.5276 - val_accuracy: 0.8270\n",
      "Epoch 27/100\n",
      "326/326 [==============================] - 2s 5ms/step - loss: 0.4943 - accuracy: 0.8327 - val_loss: 0.5080 - val_accuracy: 0.8280\n",
      "Epoch 28/100\n",
      "326/326 [==============================] - 2s 6ms/step - loss: 0.4798 - accuracy: 0.8393 - val_loss: 0.4924 - val_accuracy: 0.8362\n",
      "Epoch 29/100\n",
      "326/326 [==============================] - 2s 7ms/step - loss: 0.4922 - accuracy: 0.8352 - val_loss: 0.5090 - val_accuracy: 0.8270\n",
      "Epoch 30/100\n",
      "326/326 [==============================] - 2s 7ms/step - loss: 0.4962 - accuracy: 0.8325 - val_loss: 0.5219 - val_accuracy: 0.8101\n",
      "Epoch 31/100\n",
      "326/326 [==============================] - 2s 7ms/step - loss: 0.4823 - accuracy: 0.8373 - val_loss: 0.5056 - val_accuracy: 0.8291\n",
      "Epoch 32/100\n",
      "326/326 [==============================] - 2s 7ms/step - loss: 0.4626 - accuracy: 0.8462 - val_loss: 0.4908 - val_accuracy: 0.8250\n",
      "Epoch 33/100\n",
      "326/326 [==============================] - 2s 7ms/step - loss: 0.4704 - accuracy: 0.8425 - val_loss: 0.5180 - val_accuracy: 0.8337\n",
      "Epoch 34/100\n",
      "326/326 [==============================] - 2s 7ms/step - loss: 0.4838 - accuracy: 0.8395 - val_loss: 0.4794 - val_accuracy: 0.8434\n",
      "Epoch 35/100\n",
      "326/326 [==============================] - 2s 5ms/step - loss: 0.4698 - accuracy: 0.8444 - val_loss: 0.4783 - val_accuracy: 0.8485\n",
      "Epoch 36/100\n",
      "326/326 [==============================] - 2s 7ms/step - loss: 0.4559 - accuracy: 0.8457 - val_loss: 0.4937 - val_accuracy: 0.8316\n",
      "Epoch 37/100\n",
      "326/326 [==============================] - 2s 8ms/step - loss: 0.4769 - accuracy: 0.8358 - val_loss: 0.5109 - val_accuracy: 0.8316\n",
      "Epoch 38/100\n",
      "326/326 [==============================] - 2s 7ms/step - loss: 0.4510 - accuracy: 0.8463 - val_loss: 0.4918 - val_accuracy: 0.8414\n",
      "Epoch 39/100\n",
      "326/326 [==============================] - 2s 7ms/step - loss: 0.4594 - accuracy: 0.8455 - val_loss: 0.4825 - val_accuracy: 0.8388\n",
      "Epoch 40/100\n",
      "326/326 [==============================] - 2s 7ms/step - loss: 0.4508 - accuracy: 0.8471 - val_loss: 0.5332 - val_accuracy: 0.8306\n",
      "Epoch 41/100\n",
      "326/326 [==============================] - 2s 7ms/step - loss: 0.4478 - accuracy: 0.8486 - val_loss: 0.4799 - val_accuracy: 0.8321\n",
      "Epoch 42/100\n",
      "326/326 [==============================] - 2s 7ms/step - loss: 0.4527 - accuracy: 0.8428 - val_loss: 0.4644 - val_accuracy: 0.8403\n",
      "Epoch 43/100\n",
      "326/326 [==============================] - 2s 7ms/step - loss: 0.4483 - accuracy: 0.8473 - val_loss: 0.4657 - val_accuracy: 0.8439\n",
      "Epoch 44/100\n",
      "326/326 [==============================] - 2s 7ms/step - loss: 0.4528 - accuracy: 0.8451 - val_loss: 0.5419 - val_accuracy: 0.8255\n",
      "Epoch 45/100\n",
      "326/326 [==============================] - 2s 7ms/step - loss: 0.4413 - accuracy: 0.8512 - val_loss: 0.4663 - val_accuracy: 0.8301\n"
     ]
    },
    {
     "name": "stdout",
     "output_type": "stream",
     "text": [
      "Epoch 46/100\n",
      "326/326 [==============================] - 2s 5ms/step - loss: 0.4478 - accuracy: 0.8467 - val_loss: 0.4504 - val_accuracy: 0.8439\n",
      "Epoch 47/100\n",
      "326/326 [==============================] - 2s 7ms/step - loss: 0.4317 - accuracy: 0.8540 - val_loss: 0.4532 - val_accuracy: 0.8454\n",
      "Epoch 48/100\n",
      "326/326 [==============================] - 2s 7ms/step - loss: 0.4416 - accuracy: 0.8482 - val_loss: 0.4740 - val_accuracy: 0.8408\n",
      "Epoch 49/100\n",
      "326/326 [==============================] - 2s 7ms/step - loss: 0.4393 - accuracy: 0.8517 - val_loss: 0.4969 - val_accuracy: 0.8373\n",
      "Epoch 50/100\n",
      "326/326 [==============================] - 2s 7ms/step - loss: 0.4355 - accuracy: 0.8519 - val_loss: 0.4541 - val_accuracy: 0.8419\n",
      "Epoch 51/100\n",
      "326/326 [==============================] - 2s 7ms/step - loss: 0.4235 - accuracy: 0.8517 - val_loss: 0.4594 - val_accuracy: 0.8424\n",
      "Epoch 52/100\n",
      "326/326 [==============================] - 2s 7ms/step - loss: 0.4291 - accuracy: 0.8528 - val_loss: 0.4438 - val_accuracy: 0.8526\n",
      "Epoch 53/100\n",
      "326/326 [==============================] - 2s 7ms/step - loss: 0.4296 - accuracy: 0.8509 - val_loss: 0.4642 - val_accuracy: 0.8490\n",
      "Epoch 54/100\n",
      "326/326 [==============================] - 2s 7ms/step - loss: 0.4300 - accuracy: 0.8541 - val_loss: 0.4592 - val_accuracy: 0.8531\n",
      "Epoch 55/100\n",
      "326/326 [==============================] - 2s 6ms/step - loss: 0.4171 - accuracy: 0.8606 - val_loss: 0.4892 - val_accuracy: 0.8311\n",
      "Epoch 56/100\n",
      "326/326 [==============================] - 2s 5ms/step - loss: 0.4211 - accuracy: 0.8610 - val_loss: 0.4382 - val_accuracy: 0.8501\n",
      "Epoch 57/100\n",
      "326/326 [==============================] - 2s 6ms/step - loss: 0.4079 - accuracy: 0.8601 - val_loss: 0.4519 - val_accuracy: 0.8567\n",
      "Epoch 58/100\n",
      "326/326 [==============================] - 2s 6ms/step - loss: 0.4267 - accuracy: 0.8510 - val_loss: 0.4299 - val_accuracy: 0.8526\n",
      "Epoch 59/100\n",
      "326/326 [==============================] - 2s 7ms/step - loss: 0.4088 - accuracy: 0.8627 - val_loss: 0.3959 - val_accuracy: 0.8664\n",
      "Epoch 60/100\n",
      "326/326 [==============================] - 2s 7ms/step - loss: 0.4054 - accuracy: 0.8591 - val_loss: 0.4602 - val_accuracy: 0.8480\n",
      "Epoch 61/100\n",
      "326/326 [==============================] - 2s 7ms/step - loss: 0.4207 - accuracy: 0.8565 - val_loss: 0.4513 - val_accuracy: 0.8439\n",
      "Epoch 62/100\n",
      "326/326 [==============================] - 2s 6ms/step - loss: 0.4096 - accuracy: 0.8587 - val_loss: 0.4550 - val_accuracy: 0.8362\n",
      "Epoch 63/100\n",
      "326/326 [==============================] - 2s 7ms/step - loss: 0.3971 - accuracy: 0.8628 - val_loss: 0.4412 - val_accuracy: 0.8501\n",
      "Epoch 64/100\n",
      "326/326 [==============================] - 2s 7ms/step - loss: 0.4044 - accuracy: 0.8596 - val_loss: 0.4048 - val_accuracy: 0.8664\n",
      "Epoch 65/100\n",
      "326/326 [==============================] - 2s 7ms/step - loss: 0.3909 - accuracy: 0.8654 - val_loss: 0.4915 - val_accuracy: 0.8291\n",
      "Epoch 66/100\n",
      "326/326 [==============================] - 2s 7ms/step - loss: 0.3974 - accuracy: 0.8601 - val_loss: 0.4138 - val_accuracy: 0.8603\n",
      "Epoch 67/100\n",
      "326/326 [==============================] - 2s 7ms/step - loss: 0.3909 - accuracy: 0.8632 - val_loss: 0.4343 - val_accuracy: 0.8531\n",
      "Epoch 68/100\n",
      "326/326 [==============================] - 2s 7ms/step - loss: 0.3863 - accuracy: 0.8628 - val_loss: 0.4375 - val_accuracy: 0.8531\n",
      "Epoch 69/100\n",
      "326/326 [==============================] - 2s 7ms/step - loss: 0.3840 - accuracy: 0.8654 - val_loss: 0.3939 - val_accuracy: 0.8608\n",
      "Epoch 70/100\n",
      "326/326 [==============================] - 2s 7ms/step - loss: 0.3746 - accuracy: 0.8697 - val_loss: 0.3866 - val_accuracy: 0.8685\n",
      "Epoch 71/100\n",
      "326/326 [==============================] - 2s 7ms/step - loss: 0.3850 - accuracy: 0.8679 - val_loss: 0.4139 - val_accuracy: 0.8480\n",
      "Epoch 72/100\n",
      "326/326 [==============================] - 2s 7ms/step - loss: 0.3940 - accuracy: 0.8654 - val_loss: 0.4317 - val_accuracy: 0.8531\n",
      "Epoch 73/100\n",
      "326/326 [==============================] - 2s 7ms/step - loss: 0.3767 - accuracy: 0.8736 - val_loss: 0.4229 - val_accuracy: 0.8572\n",
      "Epoch 74/100\n",
      "326/326 [==============================] - 2s 7ms/step - loss: 0.3926 - accuracy: 0.8640 - val_loss: 0.3842 - val_accuracy: 0.8608\n",
      "Epoch 75/100\n",
      "326/326 [==============================] - 2s 7ms/step - loss: 0.3681 - accuracy: 0.8741 - val_loss: 0.3995 - val_accuracy: 0.8654\n",
      "Epoch 76/100\n",
      "326/326 [==============================] - 2s 7ms/step - loss: 0.3828 - accuracy: 0.8642 - val_loss: 0.4140 - val_accuracy: 0.8628\n",
      "Epoch 77/100\n",
      "326/326 [==============================] - 2s 7ms/step - loss: 0.3728 - accuracy: 0.8673 - val_loss: 0.4029 - val_accuracy: 0.8705\n",
      "Epoch 78/100\n",
      "326/326 [==============================] - 2s 7ms/step - loss: 0.3680 - accuracy: 0.8733 - val_loss: 0.3733 - val_accuracy: 0.8741\n",
      "Epoch 79/100\n",
      "326/326 [==============================] - 2s 7ms/step - loss: 0.3665 - accuracy: 0.8720 - val_loss: 0.4178 - val_accuracy: 0.8603\n",
      "Epoch 80/100\n",
      "326/326 [==============================] - 2s 7ms/step - loss: 0.3651 - accuracy: 0.8727 - val_loss: 0.3806 - val_accuracy: 0.8680\n",
      "Epoch 81/100\n",
      "326/326 [==============================] - 2s 7ms/step - loss: 0.3729 - accuracy: 0.8701 - val_loss: 0.4029 - val_accuracy: 0.8588\n",
      "Epoch 82/100\n",
      "326/326 [==============================] - 2s 7ms/step - loss: 0.3721 - accuracy: 0.8746 - val_loss: 0.3931 - val_accuracy: 0.8644\n",
      "Epoch 83/100\n",
      "326/326 [==============================] - 2s 7ms/step - loss: 0.3626 - accuracy: 0.8775 - val_loss: 0.3845 - val_accuracy: 0.8721\n",
      "Epoch 84/100\n",
      "326/326 [==============================] - 2s 7ms/step - loss: 0.3666 - accuracy: 0.8734 - val_loss: 0.3620 - val_accuracy: 0.8833\n",
      "Epoch 85/100\n",
      "326/326 [==============================] - 2s 5ms/step - loss: 0.3559 - accuracy: 0.8770 - val_loss: 0.3639 - val_accuracy: 0.8833\n",
      "Epoch 86/100\n",
      "326/326 [==============================] - 2s 6ms/step - loss: 0.3550 - accuracy: 0.8797 - val_loss: 0.3614 - val_accuracy: 0.8772\n",
      "Epoch 87/100\n",
      "326/326 [==============================] - 2s 5ms/step - loss: 0.3412 - accuracy: 0.8806 - val_loss: 0.3487 - val_accuracy: 0.8874\n",
      "Epoch 88/100\n",
      "326/326 [==============================] - 2s 6ms/step - loss: 0.3557 - accuracy: 0.8803 - val_loss: 0.3932 - val_accuracy: 0.8634\n",
      "Epoch 89/100\n",
      "326/326 [==============================] - 2s 5ms/step - loss: 0.3486 - accuracy: 0.8812 - val_loss: 0.3594 - val_accuracy: 0.8762\n",
      "Epoch 90/100\n",
      "326/326 [==============================] - 2s 7ms/step - loss: 0.3701 - accuracy: 0.8754 - val_loss: 0.3734 - val_accuracy: 0.8736\n",
      "Epoch 91/100\n",
      "326/326 [==============================] - 2s 7ms/step - loss: 0.3567 - accuracy: 0.8777 - val_loss: 0.3724 - val_accuracy: 0.8756\n",
      "Epoch 92/100\n",
      "326/326 [==============================] - 2s 7ms/step - loss: 0.3409 - accuracy: 0.8819 - val_loss: 0.3679 - val_accuracy: 0.8746\n",
      "Epoch 93/100\n",
      "326/326 [==============================] - 2s 7ms/step - loss: 0.3321 - accuracy: 0.8883 - val_loss: 0.3730 - val_accuracy: 0.8782\n",
      "Epoch 94/100\n",
      "326/326 [==============================] - 2s 7ms/step - loss: 0.3460 - accuracy: 0.8811 - val_loss: 0.3472 - val_accuracy: 0.8838\n",
      "Epoch 95/100\n",
      "326/326 [==============================] - 2s 7ms/step - loss: 0.3433 - accuracy: 0.8851 - val_loss: 0.3441 - val_accuracy: 0.8874\n",
      "Epoch 96/100\n",
      "326/326 [==============================] - 2s 7ms/step - loss: 0.3380 - accuracy: 0.8837 - val_loss: 0.3460 - val_accuracy: 0.8838\n",
      "Epoch 97/100\n",
      "326/326 [==============================] - 2s 7ms/step - loss: 0.3257 - accuracy: 0.8876 - val_loss: 0.3741 - val_accuracy: 0.8762\n",
      "Epoch 98/100\n",
      "326/326 [==============================] - 2s 7ms/step - loss: 0.3429 - accuracy: 0.8828 - val_loss: 0.3682 - val_accuracy: 0.8721\n",
      "Epoch 99/100\n",
      "326/326 [==============================] - 2s 6ms/step - loss: 0.3465 - accuracy: 0.8792 - val_loss: 0.3269 - val_accuracy: 0.8854\n",
      "Epoch 100/100\n",
      "326/326 [==============================] - 2s 6ms/step - loss: 0.3357 - accuracy: 0.8842 - val_loss: 0.3264 - val_accuracy: 0.8936\n"
     ]
    },
    {
     "data": {
      "text/plain": [
       "<keras.callbacks.History at 0x21c42a6a9d0>"
      ]
     },
     "execution_count": 41,
     "metadata": {},
     "output_type": "execute_result"
    }
   ],
   "source": [
    "import tensorflow as tf\n",
    "from tensorflow.keras.models import Sequential\n",
    "from tensorflow.keras.layers import Conv1D, MaxPooling1D, Flatten, Dense, SimpleRNN, Dropout\n",
    "\n",
    "# Define input shape based on your data\n",
    "input_shape = (x_training_data.shape[1], 1)  # Shape of your input data assuming it's sequential\n",
    "\n",
    "# Define the number of classes for the output\n",
    "num_classes = 6  # Assuming you have 6 classes for the output\n",
    "\n",
    "# Create the combined RNN-CNN model\n",
    "model = Sequential([\n",
    "    # CNN layers\n",
    "    Conv1D(32, 3, activation='relu', input_shape=input_shape),\n",
    "    MaxPooling1D(2),\n",
    "    Conv1D(64, 3, activation='relu'),\n",
    "    MaxPooling1D(2),\n",
    "    #Flatten(),\n",
    "\n",
    "    # RNN layers\n",
    "    SimpleRNN(units=64, return_sequences=True),\n",
    "    Dropout(0.2),\n",
    "    SimpleRNN(units=64),\n",
    "    Dropout(0.2),\n",
    "\n",
    "    # Output layer\n",
    "    Dense(num_classes, activation='softmax')\n",
    "])\n",
    "\n",
    "# Compile the model\n",
    "model.compile(optimizer='adam',\n",
    "              loss='sparse_categorical_crossentropy',\n",
    "              metrics=['accuracy'])\n",
    "\n",
    "# Print the model summary\n",
    "model.summary()\n",
    "\n",
    "# Train the model\n",
    "model.fit(X_train, y_train, epochs=100, batch_size=24, validation_data=(X_test, y_test))\n"
   ]
  },
  {
   "cell_type": "code",
   "execution_count": 42,
   "id": "e262af8e",
   "metadata": {
    "scrolled": true
   },
   "outputs": [
    {
     "name": "stdout",
     "output_type": "stream",
     "text": [
      "Model: \"sequential_8\"\n",
      "_________________________________________________________________\n",
      " Layer (type)                Output Shape              Param #   \n",
      "=================================================================\n",
      " simple_rnn_19 (SimpleRNN)   (None, 28, 64)            4224      \n",
      "                                                                 \n",
      " dropout_19 (Dropout)        (None, 28, 64)            0         \n",
      "                                                                 \n",
      " simple_rnn_20 (SimpleRNN)   (None, 28, 64)            8256      \n",
      "                                                                 \n",
      " dropout_20 (Dropout)        (None, 28, 64)            0         \n",
      "                                                                 \n",
      " simple_rnn_21 (SimpleRNN)   (None, 64)                8256      \n",
      "                                                                 \n",
      " dropout_21 (Dropout)        (None, 64)                0         \n",
      "                                                                 \n",
      " dense_8 (Dense)             (None, 6)                 390       \n",
      "                                                                 \n",
      "=================================================================\n",
      "Total params: 21,126\n",
      "Trainable params: 21,126\n",
      "Non-trainable params: 0\n",
      "_________________________________________________________________\n",
      "Epoch 1/75\n",
      "326/326 [==============================] - 5s 12ms/step - loss: 1.1029 - accuracy: 0.5195 - val_loss: 0.9200 - val_accuracy: 0.6013\n",
      "Epoch 2/75\n",
      "326/326 [==============================] - 4s 12ms/step - loss: 0.8901 - accuracy: 0.6071 - val_loss: 0.7611 - val_accuracy: 0.6627\n",
      "Epoch 3/75\n",
      "326/326 [==============================] - 5s 15ms/step - loss: 0.7923 - accuracy: 0.6511 - val_loss: 0.6787 - val_accuracy: 0.7021\n",
      "Epoch 4/75\n",
      "326/326 [==============================] - 6s 17ms/step - loss: 0.7547 - accuracy: 0.6625 - val_loss: 0.6938 - val_accuracy: 0.7037\n",
      "Epoch 5/75\n",
      "326/326 [==============================] - 5s 15ms/step - loss: 0.7217 - accuracy: 0.6779 - val_loss: 0.6581 - val_accuracy: 0.6975\n",
      "Epoch 6/75\n",
      "326/326 [==============================] - 5s 15ms/step - loss: 0.6936 - accuracy: 0.6884 - val_loss: 0.6664 - val_accuracy: 0.7052\n",
      "Epoch 7/75\n",
      "326/326 [==============================] - 6s 18ms/step - loss: 0.6608 - accuracy: 0.7078 - val_loss: 0.6042 - val_accuracy: 0.7318\n",
      "Epoch 8/75\n",
      "326/326 [==============================] - 5s 16ms/step - loss: 0.6219 - accuracy: 0.7266 - val_loss: 0.5558 - val_accuracy: 0.7528\n",
      "Epoch 9/75\n",
      "326/326 [==============================] - 5s 15ms/step - loss: 0.5660 - accuracy: 0.7561 - val_loss: 0.5722 - val_accuracy: 0.7605\n",
      "Epoch 10/75\n",
      "326/326 [==============================] - 5s 15ms/step - loss: 0.5490 - accuracy: 0.7568 - val_loss: 0.5433 - val_accuracy: 0.7881\n",
      "Epoch 11/75\n",
      "326/326 [==============================] - 5s 15ms/step - loss: 0.5198 - accuracy: 0.7659 - val_loss: 0.4782 - val_accuracy: 0.7881\n",
      "Epoch 12/75\n",
      "326/326 [==============================] - 5s 15ms/step - loss: 0.5171 - accuracy: 0.7726 - val_loss: 0.4675 - val_accuracy: 0.7871\n",
      "Epoch 13/75\n",
      "326/326 [==============================] - 5s 15ms/step - loss: 0.4793 - accuracy: 0.7879 - val_loss: 0.4989 - val_accuracy: 0.7830\n",
      "Epoch 14/75\n",
      "326/326 [==============================] - 5s 15ms/step - loss: 0.4919 - accuracy: 0.7726 - val_loss: 0.4825 - val_accuracy: 0.7902\n",
      "Epoch 15/75\n",
      "326/326 [==============================] - 5s 15ms/step - loss: 0.4719 - accuracy: 0.7850 - val_loss: 0.4523 - val_accuracy: 0.7835\n",
      "Epoch 16/75\n",
      "326/326 [==============================] - 5s 15ms/step - loss: 0.4513 - accuracy: 0.7951 - val_loss: 0.4154 - val_accuracy: 0.8224\n",
      "Epoch 17/75\n",
      "326/326 [==============================] - 6s 18ms/step - loss: 0.4765 - accuracy: 0.7885 - val_loss: 0.4856 - val_accuracy: 0.7953\n",
      "Epoch 18/75\n",
      "326/326 [==============================] - 5s 15ms/step - loss: 0.5067 - accuracy: 0.7704 - val_loss: 0.4536 - val_accuracy: 0.7927\n",
      "Epoch 19/75\n",
      "326/326 [==============================] - 6s 17ms/step - loss: 0.5159 - accuracy: 0.7635 - val_loss: 0.4492 - val_accuracy: 0.7943\n",
      "Epoch 20/75\n",
      "326/326 [==============================] - 6s 17ms/step - loss: 0.5082 - accuracy: 0.7618 - val_loss: 0.4237 - val_accuracy: 0.8014\n",
      "Epoch 21/75\n",
      "326/326 [==============================] - 5s 15ms/step - loss: 0.4714 - accuracy: 0.7789 - val_loss: 0.4494 - val_accuracy: 0.7968\n"
     ]
    }
   ],
   "source": [
    "import tensorflow as tf\n",
    "from tensorflow.keras.models import Sequential\n",
    "from tensorflow.keras.layers import SimpleRNN, Dense, Dropout\n",
    "from tensorflow.keras.callbacks import EarlyStopping\n",
    "\n",
    "# Define input shape based on your data\n",
    "input_shape = (x_training_data.shape[1], 1)  # Shape of your input data\n",
    "\n",
    "# Define the number of classes for the output\n",
    "num_classes = 6  # Assuming you have 6 classes for the output\n",
    "\n",
    "# Create the RNN model\n",
    "rnn_model = Sequential([\n",
    "    SimpleRNN(units=64, return_sequences=True, input_shape=input_shape),\n",
    "    Dropout(0.2),\n",
    "    SimpleRNN(units=64, return_sequences=True),\n",
    "    Dropout(0.2),\n",
    "    SimpleRNN(units=64),\n",
    "    Dropout(0.2),\n",
    "    Dense(units=num_classes, activation='softmax')\n",
    "])\n",
    "\n",
    "# Compile the model\n",
    "rnn_model.compile(optimizer='adam',\n",
    "                  loss='sparse_categorical_crossentropy',\n",
    "                  metrics=['accuracy'])\n",
    "\n",
    "# Define early stopping callback\n",
    "early_stopping = EarlyStopping(monitor='val_loss', patience=5, restore_best_weights=True)\n",
    "\n",
    "# Print the model summary\n",
    "rnn_model.summary()\n",
    "\n",
    "# Train the model with early stopping\n",
    "history = rnn_model.fit(X_train, y_train, epochs=75, batch_size=24,\n",
    "                        validation_data=(X_test, y_test), callbacks=[early_stopping])\n"
   ]
  },
  {
   "cell_type": "code",
   "execution_count": 43,
   "id": "fe2c5c06",
   "metadata": {},
   "outputs": [
    {
     "name": "stdout",
     "output_type": "stream",
     "text": [
      "Test loss: 0.3264293968677521\n",
      "Test accuracy: 0.8935517072677612\n"
     ]
    }
   ],
   "source": [
    "# Evaluate the model\n",
    "score = model.evaluate(X_test, y_test, verbose=0)\n",
    "print(\"Test loss:\", score[0])\n",
    "print(\"Test accuracy:\", score[1])"
   ]
  },
  {
   "cell_type": "code",
   "execution_count": 44,
   "id": "a50ecdee",
   "metadata": {},
   "outputs": [
    {
     "name": "stdout",
     "output_type": "stream",
     "text": [
      "Test loss: 0.4153718054294586\n",
      "Test accuracy: 0.8224155306816101\n"
     ]
    }
   ],
   "source": [
    "# Evaluate the model\n",
    "score = rnn_model.evaluate(X_test, y_test, verbose=0)\n",
    "print(\"Test loss:\", score[0])\n",
    "print(\"Test accuracy:\", score[1])"
   ]
  },
  {
   "cell_type": "code",
   "execution_count": 30,
   "id": "0feaf093",
   "metadata": {
    "scrolled": true
   },
   "outputs": [
    {
     "name": "stdout",
     "output_type": "stream",
     "text": [
      "Accuracy: 1.0\n"
     ]
    }
   ],
   "source": []
  },
  {
   "cell_type": "code",
   "execution_count": null,
   "id": "827ed08c",
   "metadata": {},
   "outputs": [],
   "source": []
  },
  {
   "cell_type": "code",
   "execution_count": null,
   "id": "ad0ccb65",
   "metadata": {},
   "outputs": [],
   "source": []
  },
  {
   "cell_type": "code",
   "execution_count": null,
   "id": "3b4f46f6",
   "metadata": {},
   "outputs": [],
   "source": []
  },
  {
   "cell_type": "code",
   "execution_count": null,
   "id": "c3cf8aef",
   "metadata": {},
   "outputs": [],
   "source": []
  }
 ],
 "metadata": {
  "kernelspec": {
   "display_name": "Python 3 (ipykernel)",
   "language": "python",
   "name": "python3"
  },
  "language_info": {
   "codemirror_mode": {
    "name": "ipython",
    "version": 3
   },
   "file_extension": ".py",
   "mimetype": "text/x-python",
   "name": "python",
   "nbconvert_exporter": "python",
   "pygments_lexer": "ipython3",
   "version": "3.9.16"
  }
 },
 "nbformat": 4,
 "nbformat_minor": 5
}
